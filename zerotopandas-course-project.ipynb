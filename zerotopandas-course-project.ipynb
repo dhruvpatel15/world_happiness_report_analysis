{
 "cells": [
  {
   "cell_type": "markdown",
   "metadata": {},
   "source": [
    "# World Happiness Report\n",
    " The World Happiness Report is a publication of the United Nations Sustainable Development Solutions Network. It contains articles and rankings of national happiness, based on respondent ratings of their own lives, which the report also correlates with various (quality of) life factors and they are:\n",
    "   <br>\n",
    "   - Gross Domestic Product Per Capita.\n",
    "   <br>\n",
    "   - Social Support.\n",
    "   <br>\n",
    "   - Healthy life expectancy at birth.\n",
    "   <br>\n",
    "   - Freedom to make life choices.\n",
    "   <br>\n",
    "   - Generosity.\n",
    "   <br>\n",
    "   - Perceptions of corruption.\n",
    "   <br>\n",
    "As of December 2021, Finland had been ranked the happiest country in the world four times in a row"
   ]
  },
  {
   "cell_type": "markdown",
   "metadata": {},
   "source": [
    "## Downloading the Dataset\n",
    "\n",
    "- Downloading the dataset from Kaggle."
   ]
  },
  {
   "cell_type": "code",
   "execution_count": 1,
   "metadata": {},
   "outputs": [],
   "source": [
    "!pip install jovian opendatasets --upgrade --quiet"
   ]
  },
  {
   "cell_type": "markdown",
   "metadata": {},
   "source": [
    "Let's begin by downloading the data, and listing the files within the dataset."
   ]
  },
  {
   "cell_type": "code",
   "execution_count": 2,
   "metadata": {},
   "outputs": [],
   "source": [
    "dataset_url = \"https://www.kaggle.com/unsdsn/world-happiness\" "
   ]
  },
  {
   "cell_type": "code",
   "execution_count": 4,
   "metadata": {},
   "outputs": [
    {
     "name": "stdout",
     "output_type": "stream",
     "text": [
      "Skipping, found downloaded files in \"./world-happiness\" (use force=True to force download)\n"
     ]
    }
   ],
   "source": [
    "import opendatasets as od\n",
    "od.download(dataset_url)"
   ]
  },
  {
   "cell_type": "markdown",
   "metadata": {},
   "source": [
    "The dataset has been downloaded in device and uploaded."
   ]
  },
  {
   "cell_type": "markdown",
   "metadata": {},
   "source": [
    "Let us save and upload our work to Jovian before continuing."
   ]
  },
  {
   "cell_type": "code",
   "execution_count": 5,
   "metadata": {},
   "outputs": [],
   "source": [
    "project_name = \"world-happiness-report\""
   ]
  },
  {
   "cell_type": "code",
   "execution_count": 6,
   "metadata": {},
   "outputs": [],
   "source": [
    "!pip install jovian --upgrade -q"
   ]
  },
  {
   "cell_type": "code",
   "execution_count": 7,
   "metadata": {},
   "outputs": [],
   "source": [
    "import jovian"
   ]
  },
  {
   "cell_type": "code",
   "execution_count": 8,
   "metadata": {},
   "outputs": [
    {
     "data": {
      "application/javascript": [
       "window.require && require([\"base/js/namespace\"],function(Jupyter){Jupyter.notebook.save_checkpoint()})"
      ],
      "text/plain": [
       "<IPython.core.display.Javascript object>"
      ]
     },
     "metadata": {},
     "output_type": "display_data"
    },
    {
     "name": "stdout",
     "output_type": "stream",
     "text": [
      "[jovian] Updating notebook \"dhruv171717/world-happiness-report\" on https://jovian.ai\u001b[0m\n",
      "[jovian] Committed successfully! https://jovian.ai/dhruv171717/world-happiness-report\u001b[0m\n"
     ]
    },
    {
     "data": {
      "text/plain": [
       "'https://jovian.ai/dhruv171717/world-happiness-report'"
      ]
     },
     "execution_count": 8,
     "metadata": {},
     "output_type": "execute_result"
    }
   ],
   "source": [
    "jovian.commit(project=project_name)"
   ]
  },
  {
   "cell_type": "markdown",
   "metadata": {},
   "source": [
    "## Data Preparation and Cleaning\n",
    "\n",
    " - Our data has been uploaded and now we will prepare the data for analysis, by removing unwanted rows and columns from the dataset."
   ]
  },
  {
   "cell_type": "code",
   "execution_count": 9,
   "metadata": {},
   "outputs": [],
   "source": [
    "import pandas as pd\n",
    "import numpy as np\n",
    "import matplotlib.pyplot as plt\n",
    "import seaborn as sns"
   ]
  },
  {
   "cell_type": "markdown",
   "metadata": {},
   "source": [
    "### Report of 2015"
   ]
  },
  {
   "cell_type": "code",
   "execution_count": 10,
   "metadata": {},
   "outputs": [],
   "source": [
    "report2015_data = pd.read_csv('HIR-2015.csv')"
   ]
  },
  {
   "cell_type": "code",
   "execution_count": 11,
   "metadata": {},
   "outputs": [
    {
     "data": {
      "text/html": [
       "<div>\n",
       "<style scoped>\n",
       "    .dataframe tbody tr th:only-of-type {\n",
       "        vertical-align: middle;\n",
       "    }\n",
       "\n",
       "    .dataframe tbody tr th {\n",
       "        vertical-align: top;\n",
       "    }\n",
       "\n",
       "    .dataframe thead th {\n",
       "        text-align: right;\n",
       "    }\n",
       "</style>\n",
       "<table border=\"1\" class=\"dataframe\">\n",
       "  <thead>\n",
       "    <tr style=\"text-align: right;\">\n",
       "      <th></th>\n",
       "      <th>Country</th>\n",
       "      <th>Region</th>\n",
       "      <th>Happiness Rank</th>\n",
       "      <th>Happiness Score</th>\n",
       "      <th>Standard Error</th>\n",
       "      <th>Economy (GDP per Capita)</th>\n",
       "      <th>Family</th>\n",
       "      <th>Health (Life Expectancy)</th>\n",
       "      <th>Freedom</th>\n",
       "      <th>Trust (Government Corruption)</th>\n",
       "      <th>Generosity</th>\n",
       "      <th>Dystopia Residual</th>\n",
       "    </tr>\n",
       "  </thead>\n",
       "  <tbody>\n",
       "    <tr>\n",
       "      <th>0</th>\n",
       "      <td>Switzerland</td>\n",
       "      <td>Western Europe</td>\n",
       "      <td>1</td>\n",
       "      <td>7.587</td>\n",
       "      <td>0.03411</td>\n",
       "      <td>1.39651</td>\n",
       "      <td>1.34951</td>\n",
       "      <td>0.94143</td>\n",
       "      <td>0.66557</td>\n",
       "      <td>0.41978</td>\n",
       "      <td>0.29678</td>\n",
       "      <td>2.51738</td>\n",
       "    </tr>\n",
       "    <tr>\n",
       "      <th>1</th>\n",
       "      <td>Iceland</td>\n",
       "      <td>Western Europe</td>\n",
       "      <td>2</td>\n",
       "      <td>7.561</td>\n",
       "      <td>0.04884</td>\n",
       "      <td>1.30232</td>\n",
       "      <td>1.40223</td>\n",
       "      <td>0.94784</td>\n",
       "      <td>0.62877</td>\n",
       "      <td>0.14145</td>\n",
       "      <td>0.43630</td>\n",
       "      <td>2.70201</td>\n",
       "    </tr>\n",
       "    <tr>\n",
       "      <th>2</th>\n",
       "      <td>Denmark</td>\n",
       "      <td>Western Europe</td>\n",
       "      <td>3</td>\n",
       "      <td>7.527</td>\n",
       "      <td>0.03328</td>\n",
       "      <td>1.32548</td>\n",
       "      <td>1.36058</td>\n",
       "      <td>0.87464</td>\n",
       "      <td>0.64938</td>\n",
       "      <td>0.48357</td>\n",
       "      <td>0.34139</td>\n",
       "      <td>2.49204</td>\n",
       "    </tr>\n",
       "    <tr>\n",
       "      <th>3</th>\n",
       "      <td>Norway</td>\n",
       "      <td>Western Europe</td>\n",
       "      <td>4</td>\n",
       "      <td>7.522</td>\n",
       "      <td>0.03880</td>\n",
       "      <td>1.45900</td>\n",
       "      <td>1.33095</td>\n",
       "      <td>0.88521</td>\n",
       "      <td>0.66973</td>\n",
       "      <td>0.36503</td>\n",
       "      <td>0.34699</td>\n",
       "      <td>2.46531</td>\n",
       "    </tr>\n",
       "    <tr>\n",
       "      <th>4</th>\n",
       "      <td>Canada</td>\n",
       "      <td>North America</td>\n",
       "      <td>5</td>\n",
       "      <td>7.427</td>\n",
       "      <td>0.03553</td>\n",
       "      <td>1.32629</td>\n",
       "      <td>1.32261</td>\n",
       "      <td>0.90563</td>\n",
       "      <td>0.63297</td>\n",
       "      <td>0.32957</td>\n",
       "      <td>0.45811</td>\n",
       "      <td>2.45176</td>\n",
       "    </tr>\n",
       "  </tbody>\n",
       "</table>\n",
       "</div>"
      ],
      "text/plain": [
       "       Country          Region  Happiness Rank  Happiness Score  \\\n",
       "0  Switzerland  Western Europe               1            7.587   \n",
       "1      Iceland  Western Europe               2            7.561   \n",
       "2      Denmark  Western Europe               3            7.527   \n",
       "3       Norway  Western Europe               4            7.522   \n",
       "4       Canada   North America               5            7.427   \n",
       "\n",
       "   Standard Error  Economy (GDP per Capita)   Family  \\\n",
       "0         0.03411                   1.39651  1.34951   \n",
       "1         0.04884                   1.30232  1.40223   \n",
       "2         0.03328                   1.32548  1.36058   \n",
       "3         0.03880                   1.45900  1.33095   \n",
       "4         0.03553                   1.32629  1.32261   \n",
       "\n",
       "   Health (Life Expectancy)  Freedom  Trust (Government Corruption)  \\\n",
       "0                   0.94143  0.66557                        0.41978   \n",
       "1                   0.94784  0.62877                        0.14145   \n",
       "2                   0.87464  0.64938                        0.48357   \n",
       "3                   0.88521  0.66973                        0.36503   \n",
       "4                   0.90563  0.63297                        0.32957   \n",
       "\n",
       "   Generosity  Dystopia Residual  \n",
       "0     0.29678            2.51738  \n",
       "1     0.43630            2.70201  \n",
       "2     0.34139            2.49204  \n",
       "3     0.34699            2.46531  \n",
       "4     0.45811            2.45176  "
      ]
     },
     "execution_count": 11,
     "metadata": {},
     "output_type": "execute_result"
    }
   ],
   "source": [
    "report2015_data.head()"
   ]
  },
  {
   "cell_type": "markdown",
   "metadata": {},
   "source": [
    "### Removing the unwanted columns\n",
    "- Here we are going to ignore the standard error and region so removing the standard error and region column for efficiency."
   ]
  },
  {
   "cell_type": "code",
   "execution_count": 12,
   "metadata": {},
   "outputs": [],
   "source": [
    "report_2015 = report2015_data.drop(['Standard Error','Region'], axis=1)"
   ]
  },
  {
   "cell_type": "markdown",
   "metadata": {},
   "source": [
    "### Preprocessing columns\n",
    "- We will rename the columns names for easy to use purpose in this project.\n",
    "- we will perform function like lower() which will help to convert alphabets in lowercase , replace(\" \",\"_\") for space problem."
   ]
  },
  {
   "cell_type": "code",
   "execution_count": 13,
   "metadata": {
    "scrolled": true
   },
   "outputs": [
    {
     "name": "stderr",
     "output_type": "stream",
     "text": [
      "/tmp/ipykernel_152/1958114240.py:4: FutureWarning: The default value of regex will change from True to False in a future version. In addition, single character regular expressions will *not* be treated as literal strings when regex=True.\n",
      "  df.columns = df.columns.str.replace(\"(\", \"\")\n",
      "/tmp/ipykernel_152/1958114240.py:5: FutureWarning: The default value of regex will change from True to False in a future version. In addition, single character regular expressions will *not* be treated as literal strings when regex=True.\n",
      "  df.columns = df.columns.str.replace(\")\", \"\")\n"
     ]
    }
   ],
   "source": [
    "def preprocess_columns(df):\n",
    "    df.columns = df.columns.str.replace(\" \",\"_\")\n",
    "    df.columns = df.columns.str.lower()\n",
    "    df.columns = df.columns.str.replace(\"(\", \"\")\n",
    "    df.columns = df.columns.str.replace(\")\", \"\")\n",
    "    return df\n",
    "report2015 = preprocess_columns(report_2015)"
   ]
  },
  {
   "cell_type": "code",
   "execution_count": 14,
   "metadata": {},
   "outputs": [
    {
     "data": {
      "text/html": [
       "<div>\n",
       "<style scoped>\n",
       "    .dataframe tbody tr th:only-of-type {\n",
       "        vertical-align: middle;\n",
       "    }\n",
       "\n",
       "    .dataframe tbody tr th {\n",
       "        vertical-align: top;\n",
       "    }\n",
       "\n",
       "    .dataframe thead th {\n",
       "        text-align: right;\n",
       "    }\n",
       "</style>\n",
       "<table border=\"1\" class=\"dataframe\">\n",
       "  <thead>\n",
       "    <tr style=\"text-align: right;\">\n",
       "      <th></th>\n",
       "      <th>country</th>\n",
       "      <th>happiness_rank</th>\n",
       "      <th>happiness_score</th>\n",
       "      <th>economy_gdp_per_capita</th>\n",
       "      <th>family</th>\n",
       "      <th>health_life_expectancy</th>\n",
       "      <th>freedom</th>\n",
       "      <th>trust_government_corruption</th>\n",
       "      <th>generosity</th>\n",
       "      <th>dystopia_residual</th>\n",
       "    </tr>\n",
       "  </thead>\n",
       "  <tbody>\n",
       "    <tr>\n",
       "      <th>0</th>\n",
       "      <td>Switzerland</td>\n",
       "      <td>1</td>\n",
       "      <td>7.587</td>\n",
       "      <td>1.39651</td>\n",
       "      <td>1.34951</td>\n",
       "      <td>0.94143</td>\n",
       "      <td>0.66557</td>\n",
       "      <td>0.41978</td>\n",
       "      <td>0.29678</td>\n",
       "      <td>2.51738</td>\n",
       "    </tr>\n",
       "    <tr>\n",
       "      <th>1</th>\n",
       "      <td>Iceland</td>\n",
       "      <td>2</td>\n",
       "      <td>7.561</td>\n",
       "      <td>1.30232</td>\n",
       "      <td>1.40223</td>\n",
       "      <td>0.94784</td>\n",
       "      <td>0.62877</td>\n",
       "      <td>0.14145</td>\n",
       "      <td>0.43630</td>\n",
       "      <td>2.70201</td>\n",
       "    </tr>\n",
       "    <tr>\n",
       "      <th>2</th>\n",
       "      <td>Denmark</td>\n",
       "      <td>3</td>\n",
       "      <td>7.527</td>\n",
       "      <td>1.32548</td>\n",
       "      <td>1.36058</td>\n",
       "      <td>0.87464</td>\n",
       "      <td>0.64938</td>\n",
       "      <td>0.48357</td>\n",
       "      <td>0.34139</td>\n",
       "      <td>2.49204</td>\n",
       "    </tr>\n",
       "    <tr>\n",
       "      <th>3</th>\n",
       "      <td>Norway</td>\n",
       "      <td>4</td>\n",
       "      <td>7.522</td>\n",
       "      <td>1.45900</td>\n",
       "      <td>1.33095</td>\n",
       "      <td>0.88521</td>\n",
       "      <td>0.66973</td>\n",
       "      <td>0.36503</td>\n",
       "      <td>0.34699</td>\n",
       "      <td>2.46531</td>\n",
       "    </tr>\n",
       "    <tr>\n",
       "      <th>4</th>\n",
       "      <td>Canada</td>\n",
       "      <td>5</td>\n",
       "      <td>7.427</td>\n",
       "      <td>1.32629</td>\n",
       "      <td>1.32261</td>\n",
       "      <td>0.90563</td>\n",
       "      <td>0.63297</td>\n",
       "      <td>0.32957</td>\n",
       "      <td>0.45811</td>\n",
       "      <td>2.45176</td>\n",
       "    </tr>\n",
       "    <tr>\n",
       "      <th>...</th>\n",
       "      <td>...</td>\n",
       "      <td>...</td>\n",
       "      <td>...</td>\n",
       "      <td>...</td>\n",
       "      <td>...</td>\n",
       "      <td>...</td>\n",
       "      <td>...</td>\n",
       "      <td>...</td>\n",
       "      <td>...</td>\n",
       "      <td>...</td>\n",
       "    </tr>\n",
       "    <tr>\n",
       "      <th>153</th>\n",
       "      <td>Rwanda</td>\n",
       "      <td>154</td>\n",
       "      <td>3.465</td>\n",
       "      <td>0.22208</td>\n",
       "      <td>0.77370</td>\n",
       "      <td>0.42864</td>\n",
       "      <td>0.59201</td>\n",
       "      <td>0.55191</td>\n",
       "      <td>0.22628</td>\n",
       "      <td>0.67042</td>\n",
       "    </tr>\n",
       "    <tr>\n",
       "      <th>154</th>\n",
       "      <td>Benin</td>\n",
       "      <td>155</td>\n",
       "      <td>3.340</td>\n",
       "      <td>0.28665</td>\n",
       "      <td>0.35386</td>\n",
       "      <td>0.31910</td>\n",
       "      <td>0.48450</td>\n",
       "      <td>0.08010</td>\n",
       "      <td>0.18260</td>\n",
       "      <td>1.63328</td>\n",
       "    </tr>\n",
       "    <tr>\n",
       "      <th>155</th>\n",
       "      <td>Syria</td>\n",
       "      <td>156</td>\n",
       "      <td>3.006</td>\n",
       "      <td>0.66320</td>\n",
       "      <td>0.47489</td>\n",
       "      <td>0.72193</td>\n",
       "      <td>0.15684</td>\n",
       "      <td>0.18906</td>\n",
       "      <td>0.47179</td>\n",
       "      <td>0.32858</td>\n",
       "    </tr>\n",
       "    <tr>\n",
       "      <th>156</th>\n",
       "      <td>Burundi</td>\n",
       "      <td>157</td>\n",
       "      <td>2.905</td>\n",
       "      <td>0.01530</td>\n",
       "      <td>0.41587</td>\n",
       "      <td>0.22396</td>\n",
       "      <td>0.11850</td>\n",
       "      <td>0.10062</td>\n",
       "      <td>0.19727</td>\n",
       "      <td>1.83302</td>\n",
       "    </tr>\n",
       "    <tr>\n",
       "      <th>157</th>\n",
       "      <td>Togo</td>\n",
       "      <td>158</td>\n",
       "      <td>2.839</td>\n",
       "      <td>0.20868</td>\n",
       "      <td>0.13995</td>\n",
       "      <td>0.28443</td>\n",
       "      <td>0.36453</td>\n",
       "      <td>0.10731</td>\n",
       "      <td>0.16681</td>\n",
       "      <td>1.56726</td>\n",
       "    </tr>\n",
       "  </tbody>\n",
       "</table>\n",
       "<p>158 rows × 10 columns</p>\n",
       "</div>"
      ],
      "text/plain": [
       "         country  happiness_rank  happiness_score  economy_gdp_per_capita  \\\n",
       "0    Switzerland               1            7.587                 1.39651   \n",
       "1        Iceland               2            7.561                 1.30232   \n",
       "2        Denmark               3            7.527                 1.32548   \n",
       "3         Norway               4            7.522                 1.45900   \n",
       "4         Canada               5            7.427                 1.32629   \n",
       "..           ...             ...              ...                     ...   \n",
       "153       Rwanda             154            3.465                 0.22208   \n",
       "154        Benin             155            3.340                 0.28665   \n",
       "155        Syria             156            3.006                 0.66320   \n",
       "156      Burundi             157            2.905                 0.01530   \n",
       "157         Togo             158            2.839                 0.20868   \n",
       "\n",
       "      family  health_life_expectancy  freedom  trust_government_corruption  \\\n",
       "0    1.34951                 0.94143  0.66557                      0.41978   \n",
       "1    1.40223                 0.94784  0.62877                      0.14145   \n",
       "2    1.36058                 0.87464  0.64938                      0.48357   \n",
       "3    1.33095                 0.88521  0.66973                      0.36503   \n",
       "4    1.32261                 0.90563  0.63297                      0.32957   \n",
       "..       ...                     ...      ...                          ...   \n",
       "153  0.77370                 0.42864  0.59201                      0.55191   \n",
       "154  0.35386                 0.31910  0.48450                      0.08010   \n",
       "155  0.47489                 0.72193  0.15684                      0.18906   \n",
       "156  0.41587                 0.22396  0.11850                      0.10062   \n",
       "157  0.13995                 0.28443  0.36453                      0.10731   \n",
       "\n",
       "     generosity  dystopia_residual  \n",
       "0       0.29678            2.51738  \n",
       "1       0.43630            2.70201  \n",
       "2       0.34139            2.49204  \n",
       "3       0.34699            2.46531  \n",
       "4       0.45811            2.45176  \n",
       "..          ...                ...  \n",
       "153     0.22628            0.67042  \n",
       "154     0.18260            1.63328  \n",
       "155     0.47179            0.32858  \n",
       "156     0.19727            1.83302  \n",
       "157     0.16681            1.56726  \n",
       "\n",
       "[158 rows x 10 columns]"
      ]
     },
     "execution_count": 14,
     "metadata": {},
     "output_type": "execute_result"
    }
   ],
   "source": [
    "report2015"
   ]
  },
  {
   "cell_type": "markdown",
   "metadata": {},
   "source": [
    "As we can see all alphabets are converted into lowercase in column names."
   ]
  },
  {
   "cell_type": "code",
   "execution_count": 15,
   "metadata": {},
   "outputs": [
    {
     "name": "stdout",
     "output_type": "stream",
     "text": [
      "<class 'pandas.core.frame.DataFrame'>\n",
      "RangeIndex: 158 entries, 0 to 157\n",
      "Data columns (total 10 columns):\n",
      " #   Column                       Non-Null Count  Dtype  \n",
      "---  ------                       --------------  -----  \n",
      " 0   country                      158 non-null    object \n",
      " 1   happiness_rank               158 non-null    int64  \n",
      " 2   happiness_score              158 non-null    float64\n",
      " 3   economy_gdp_per_capita       158 non-null    float64\n",
      " 4   family                       158 non-null    float64\n",
      " 5   health_life_expectancy       158 non-null    float64\n",
      " 6   freedom                      158 non-null    float64\n",
      " 7   trust_government_corruption  158 non-null    float64\n",
      " 8   generosity                   158 non-null    float64\n",
      " 9   dystopia_residual            158 non-null    float64\n",
      "dtypes: float64(8), int64(1), object(1)\n",
      "memory usage: 12.5+ KB\n"
     ]
    }
   ],
   "source": [
    "report2015.info()"
   ]
  },
  {
   "cell_type": "markdown",
   "metadata": {},
   "source": [
    "- As we can see our dataset is complete there are no missing values in it so no need to handle missing data.\n",
    "- All values are present in float and integer so need to alter that for visualization."
   ]
  },
  {
   "cell_type": "markdown",
   "metadata": {},
   "source": [
    "Similarly we will analyse report of 2019 for comparision between 2015 and 2019 report in analysis."
   ]
  },
  {
   "cell_type": "markdown",
   "metadata": {},
   "source": [
    "### Report of 2019"
   ]
  },
  {
   "cell_type": "code",
   "execution_count": 16,
   "metadata": {},
   "outputs": [],
   "source": [
    "report2019_data = pd.read_csv('HIR-2019.csv')"
   ]
  },
  {
   "cell_type": "code",
   "execution_count": 17,
   "metadata": {},
   "outputs": [
    {
     "data": {
      "text/html": [
       "<div>\n",
       "<style scoped>\n",
       "    .dataframe tbody tr th:only-of-type {\n",
       "        vertical-align: middle;\n",
       "    }\n",
       "\n",
       "    .dataframe tbody tr th {\n",
       "        vertical-align: top;\n",
       "    }\n",
       "\n",
       "    .dataframe thead th {\n",
       "        text-align: right;\n",
       "    }\n",
       "</style>\n",
       "<table border=\"1\" class=\"dataframe\">\n",
       "  <thead>\n",
       "    <tr style=\"text-align: right;\">\n",
       "      <th></th>\n",
       "      <th>Overall rank</th>\n",
       "      <th>Country or region</th>\n",
       "      <th>Score</th>\n",
       "      <th>GDP per capita</th>\n",
       "      <th>Social support</th>\n",
       "      <th>Healthy life expectancy</th>\n",
       "      <th>Freedom to make life choices</th>\n",
       "      <th>Generosity</th>\n",
       "      <th>Perceptions of corruption</th>\n",
       "    </tr>\n",
       "  </thead>\n",
       "  <tbody>\n",
       "    <tr>\n",
       "      <th>0</th>\n",
       "      <td>1</td>\n",
       "      <td>Finland</td>\n",
       "      <td>7.769</td>\n",
       "      <td>1.340</td>\n",
       "      <td>1.587</td>\n",
       "      <td>0.986</td>\n",
       "      <td>0.596</td>\n",
       "      <td>0.153</td>\n",
       "      <td>0.393</td>\n",
       "    </tr>\n",
       "    <tr>\n",
       "      <th>1</th>\n",
       "      <td>2</td>\n",
       "      <td>Denmark</td>\n",
       "      <td>7.600</td>\n",
       "      <td>1.383</td>\n",
       "      <td>1.573</td>\n",
       "      <td>0.996</td>\n",
       "      <td>0.592</td>\n",
       "      <td>0.252</td>\n",
       "      <td>0.410</td>\n",
       "    </tr>\n",
       "    <tr>\n",
       "      <th>2</th>\n",
       "      <td>3</td>\n",
       "      <td>Norway</td>\n",
       "      <td>7.554</td>\n",
       "      <td>1.488</td>\n",
       "      <td>1.582</td>\n",
       "      <td>1.028</td>\n",
       "      <td>0.603</td>\n",
       "      <td>0.271</td>\n",
       "      <td>0.341</td>\n",
       "    </tr>\n",
       "    <tr>\n",
       "      <th>3</th>\n",
       "      <td>4</td>\n",
       "      <td>Iceland</td>\n",
       "      <td>7.494</td>\n",
       "      <td>1.380</td>\n",
       "      <td>1.624</td>\n",
       "      <td>1.026</td>\n",
       "      <td>0.591</td>\n",
       "      <td>0.354</td>\n",
       "      <td>0.118</td>\n",
       "    </tr>\n",
       "    <tr>\n",
       "      <th>4</th>\n",
       "      <td>5</td>\n",
       "      <td>Netherlands</td>\n",
       "      <td>7.488</td>\n",
       "      <td>1.396</td>\n",
       "      <td>1.522</td>\n",
       "      <td>0.999</td>\n",
       "      <td>0.557</td>\n",
       "      <td>0.322</td>\n",
       "      <td>0.298</td>\n",
       "    </tr>\n",
       "    <tr>\n",
       "      <th>...</th>\n",
       "      <td>...</td>\n",
       "      <td>...</td>\n",
       "      <td>...</td>\n",
       "      <td>...</td>\n",
       "      <td>...</td>\n",
       "      <td>...</td>\n",
       "      <td>...</td>\n",
       "      <td>...</td>\n",
       "      <td>...</td>\n",
       "    </tr>\n",
       "    <tr>\n",
       "      <th>151</th>\n",
       "      <td>152</td>\n",
       "      <td>Rwanda</td>\n",
       "      <td>3.334</td>\n",
       "      <td>0.359</td>\n",
       "      <td>0.711</td>\n",
       "      <td>0.614</td>\n",
       "      <td>0.555</td>\n",
       "      <td>0.217</td>\n",
       "      <td>0.411</td>\n",
       "    </tr>\n",
       "    <tr>\n",
       "      <th>152</th>\n",
       "      <td>153</td>\n",
       "      <td>Tanzania</td>\n",
       "      <td>3.231</td>\n",
       "      <td>0.476</td>\n",
       "      <td>0.885</td>\n",
       "      <td>0.499</td>\n",
       "      <td>0.417</td>\n",
       "      <td>0.276</td>\n",
       "      <td>0.147</td>\n",
       "    </tr>\n",
       "    <tr>\n",
       "      <th>153</th>\n",
       "      <td>154</td>\n",
       "      <td>Afghanistan</td>\n",
       "      <td>3.203</td>\n",
       "      <td>0.350</td>\n",
       "      <td>0.517</td>\n",
       "      <td>0.361</td>\n",
       "      <td>0.000</td>\n",
       "      <td>0.158</td>\n",
       "      <td>0.025</td>\n",
       "    </tr>\n",
       "    <tr>\n",
       "      <th>154</th>\n",
       "      <td>155</td>\n",
       "      <td>Central African Republic</td>\n",
       "      <td>3.083</td>\n",
       "      <td>0.026</td>\n",
       "      <td>0.000</td>\n",
       "      <td>0.105</td>\n",
       "      <td>0.225</td>\n",
       "      <td>0.235</td>\n",
       "      <td>0.035</td>\n",
       "    </tr>\n",
       "    <tr>\n",
       "      <th>155</th>\n",
       "      <td>156</td>\n",
       "      <td>South Sudan</td>\n",
       "      <td>2.853</td>\n",
       "      <td>0.306</td>\n",
       "      <td>0.575</td>\n",
       "      <td>0.295</td>\n",
       "      <td>0.010</td>\n",
       "      <td>0.202</td>\n",
       "      <td>0.091</td>\n",
       "    </tr>\n",
       "  </tbody>\n",
       "</table>\n",
       "<p>156 rows × 9 columns</p>\n",
       "</div>"
      ],
      "text/plain": [
       "     Overall rank         Country or region  Score  GDP per capita  \\\n",
       "0               1                   Finland  7.769           1.340   \n",
       "1               2                   Denmark  7.600           1.383   \n",
       "2               3                    Norway  7.554           1.488   \n",
       "3               4                   Iceland  7.494           1.380   \n",
       "4               5               Netherlands  7.488           1.396   \n",
       "..            ...                       ...    ...             ...   \n",
       "151           152                    Rwanda  3.334           0.359   \n",
       "152           153                  Tanzania  3.231           0.476   \n",
       "153           154               Afghanistan  3.203           0.350   \n",
       "154           155  Central African Republic  3.083           0.026   \n",
       "155           156               South Sudan  2.853           0.306   \n",
       "\n",
       "     Social support  Healthy life expectancy  Freedom to make life choices  \\\n",
       "0             1.587                    0.986                         0.596   \n",
       "1             1.573                    0.996                         0.592   \n",
       "2             1.582                    1.028                         0.603   \n",
       "3             1.624                    1.026                         0.591   \n",
       "4             1.522                    0.999                         0.557   \n",
       "..              ...                      ...                           ...   \n",
       "151           0.711                    0.614                         0.555   \n",
       "152           0.885                    0.499                         0.417   \n",
       "153           0.517                    0.361                         0.000   \n",
       "154           0.000                    0.105                         0.225   \n",
       "155           0.575                    0.295                         0.010   \n",
       "\n",
       "     Generosity  Perceptions of corruption  \n",
       "0         0.153                      0.393  \n",
       "1         0.252                      0.410  \n",
       "2         0.271                      0.341  \n",
       "3         0.354                      0.118  \n",
       "4         0.322                      0.298  \n",
       "..          ...                        ...  \n",
       "151       0.217                      0.411  \n",
       "152       0.276                      0.147  \n",
       "153       0.158                      0.025  \n",
       "154       0.235                      0.035  \n",
       "155       0.202                      0.091  \n",
       "\n",
       "[156 rows x 9 columns]"
      ]
     },
     "execution_count": 17,
     "metadata": {},
     "output_type": "execute_result"
    }
   ],
   "source": [
    "report2019_data"
   ]
  },
  {
   "cell_type": "code",
   "execution_count": 18,
   "metadata": {},
   "outputs": [],
   "source": [
    "report_2019 = report2019_data.drop(['Social support'], axis=1)"
   ]
  },
  {
   "cell_type": "code",
   "execution_count": 19,
   "metadata": {},
   "outputs": [
    {
     "data": {
      "text/html": [
       "<div>\n",
       "<style scoped>\n",
       "    .dataframe tbody tr th:only-of-type {\n",
       "        vertical-align: middle;\n",
       "    }\n",
       "\n",
       "    .dataframe tbody tr th {\n",
       "        vertical-align: top;\n",
       "    }\n",
       "\n",
       "    .dataframe thead th {\n",
       "        text-align: right;\n",
       "    }\n",
       "</style>\n",
       "<table border=\"1\" class=\"dataframe\">\n",
       "  <thead>\n",
       "    <tr style=\"text-align: right;\">\n",
       "      <th></th>\n",
       "      <th>Overall rank</th>\n",
       "      <th>Country or region</th>\n",
       "      <th>Score</th>\n",
       "      <th>GDP per capita</th>\n",
       "      <th>Healthy life expectancy</th>\n",
       "      <th>Freedom to make life choices</th>\n",
       "      <th>Generosity</th>\n",
       "      <th>Perceptions of corruption</th>\n",
       "    </tr>\n",
       "  </thead>\n",
       "  <tbody>\n",
       "    <tr>\n",
       "      <th>0</th>\n",
       "      <td>1</td>\n",
       "      <td>Finland</td>\n",
       "      <td>7.769</td>\n",
       "      <td>1.340</td>\n",
       "      <td>0.986</td>\n",
       "      <td>0.596</td>\n",
       "      <td>0.153</td>\n",
       "      <td>0.393</td>\n",
       "    </tr>\n",
       "    <tr>\n",
       "      <th>1</th>\n",
       "      <td>2</td>\n",
       "      <td>Denmark</td>\n",
       "      <td>7.600</td>\n",
       "      <td>1.383</td>\n",
       "      <td>0.996</td>\n",
       "      <td>0.592</td>\n",
       "      <td>0.252</td>\n",
       "      <td>0.410</td>\n",
       "    </tr>\n",
       "    <tr>\n",
       "      <th>2</th>\n",
       "      <td>3</td>\n",
       "      <td>Norway</td>\n",
       "      <td>7.554</td>\n",
       "      <td>1.488</td>\n",
       "      <td>1.028</td>\n",
       "      <td>0.603</td>\n",
       "      <td>0.271</td>\n",
       "      <td>0.341</td>\n",
       "    </tr>\n",
       "    <tr>\n",
       "      <th>3</th>\n",
       "      <td>4</td>\n",
       "      <td>Iceland</td>\n",
       "      <td>7.494</td>\n",
       "      <td>1.380</td>\n",
       "      <td>1.026</td>\n",
       "      <td>0.591</td>\n",
       "      <td>0.354</td>\n",
       "      <td>0.118</td>\n",
       "    </tr>\n",
       "    <tr>\n",
       "      <th>4</th>\n",
       "      <td>5</td>\n",
       "      <td>Netherlands</td>\n",
       "      <td>7.488</td>\n",
       "      <td>1.396</td>\n",
       "      <td>0.999</td>\n",
       "      <td>0.557</td>\n",
       "      <td>0.322</td>\n",
       "      <td>0.298</td>\n",
       "    </tr>\n",
       "    <tr>\n",
       "      <th>...</th>\n",
       "      <td>...</td>\n",
       "      <td>...</td>\n",
       "      <td>...</td>\n",
       "      <td>...</td>\n",
       "      <td>...</td>\n",
       "      <td>...</td>\n",
       "      <td>...</td>\n",
       "      <td>...</td>\n",
       "    </tr>\n",
       "    <tr>\n",
       "      <th>151</th>\n",
       "      <td>152</td>\n",
       "      <td>Rwanda</td>\n",
       "      <td>3.334</td>\n",
       "      <td>0.359</td>\n",
       "      <td>0.614</td>\n",
       "      <td>0.555</td>\n",
       "      <td>0.217</td>\n",
       "      <td>0.411</td>\n",
       "    </tr>\n",
       "    <tr>\n",
       "      <th>152</th>\n",
       "      <td>153</td>\n",
       "      <td>Tanzania</td>\n",
       "      <td>3.231</td>\n",
       "      <td>0.476</td>\n",
       "      <td>0.499</td>\n",
       "      <td>0.417</td>\n",
       "      <td>0.276</td>\n",
       "      <td>0.147</td>\n",
       "    </tr>\n",
       "    <tr>\n",
       "      <th>153</th>\n",
       "      <td>154</td>\n",
       "      <td>Afghanistan</td>\n",
       "      <td>3.203</td>\n",
       "      <td>0.350</td>\n",
       "      <td>0.361</td>\n",
       "      <td>0.000</td>\n",
       "      <td>0.158</td>\n",
       "      <td>0.025</td>\n",
       "    </tr>\n",
       "    <tr>\n",
       "      <th>154</th>\n",
       "      <td>155</td>\n",
       "      <td>Central African Republic</td>\n",
       "      <td>3.083</td>\n",
       "      <td>0.026</td>\n",
       "      <td>0.105</td>\n",
       "      <td>0.225</td>\n",
       "      <td>0.235</td>\n",
       "      <td>0.035</td>\n",
       "    </tr>\n",
       "    <tr>\n",
       "      <th>155</th>\n",
       "      <td>156</td>\n",
       "      <td>South Sudan</td>\n",
       "      <td>2.853</td>\n",
       "      <td>0.306</td>\n",
       "      <td>0.295</td>\n",
       "      <td>0.010</td>\n",
       "      <td>0.202</td>\n",
       "      <td>0.091</td>\n",
       "    </tr>\n",
       "  </tbody>\n",
       "</table>\n",
       "<p>156 rows × 8 columns</p>\n",
       "</div>"
      ],
      "text/plain": [
       "     Overall rank         Country or region  Score  GDP per capita  \\\n",
       "0               1                   Finland  7.769           1.340   \n",
       "1               2                   Denmark  7.600           1.383   \n",
       "2               3                    Norway  7.554           1.488   \n",
       "3               4                   Iceland  7.494           1.380   \n",
       "4               5               Netherlands  7.488           1.396   \n",
       "..            ...                       ...    ...             ...   \n",
       "151           152                    Rwanda  3.334           0.359   \n",
       "152           153                  Tanzania  3.231           0.476   \n",
       "153           154               Afghanistan  3.203           0.350   \n",
       "154           155  Central African Republic  3.083           0.026   \n",
       "155           156               South Sudan  2.853           0.306   \n",
       "\n",
       "     Healthy life expectancy  Freedom to make life choices  Generosity  \\\n",
       "0                      0.986                         0.596       0.153   \n",
       "1                      0.996                         0.592       0.252   \n",
       "2                      1.028                         0.603       0.271   \n",
       "3                      1.026                         0.591       0.354   \n",
       "4                      0.999                         0.557       0.322   \n",
       "..                       ...                           ...         ...   \n",
       "151                    0.614                         0.555       0.217   \n",
       "152                    0.499                         0.417       0.276   \n",
       "153                    0.361                         0.000       0.158   \n",
       "154                    0.105                         0.225       0.235   \n",
       "155                    0.295                         0.010       0.202   \n",
       "\n",
       "     Perceptions of corruption  \n",
       "0                        0.393  \n",
       "1                        0.410  \n",
       "2                        0.341  \n",
       "3                        0.118  \n",
       "4                        0.298  \n",
       "..                         ...  \n",
       "151                      0.411  \n",
       "152                      0.147  \n",
       "153                      0.025  \n",
       "154                      0.035  \n",
       "155                      0.091  \n",
       "\n",
       "[156 rows x 8 columns]"
      ]
     },
     "execution_count": 19,
     "metadata": {},
     "output_type": "execute_result"
    }
   ],
   "source": [
    "report_2019"
   ]
  },
  {
   "cell_type": "code",
   "execution_count": 20,
   "metadata": {},
   "outputs": [
    {
     "name": "stderr",
     "output_type": "stream",
     "text": [
      "/tmp/ipykernel_152/1764745770.py:4: FutureWarning: The default value of regex will change from True to False in a future version. In addition, single character regular expressions will *not* be treated as literal strings when regex=True.\n",
      "  df.columns = df.columns.str.replace(\"(\", \"\")\n",
      "/tmp/ipykernel_152/1764745770.py:5: FutureWarning: The default value of regex will change from True to False in a future version. In addition, single character regular expressions will *not* be treated as literal strings when regex=True.\n",
      "  df.columns = df.columns.str.replace(\")\", \"\")\n"
     ]
    }
   ],
   "source": [
    "def preprocess_columns(df):\n",
    "    df.columns = df.columns.str.replace(\" \",\"_\")\n",
    "    df.columns = df.columns.str.lower()\n",
    "    df.columns = df.columns.str.replace(\"(\", \"\")\n",
    "    df.columns = df.columns.str.replace(\")\", \"\")\n",
    "    return df\n",
    "report2019 = preprocess_columns(report_2019)"
   ]
  },
  {
   "cell_type": "code",
   "execution_count": 21,
   "metadata": {},
   "outputs": [
    {
     "data": {
      "text/html": [
       "<div>\n",
       "<style scoped>\n",
       "    .dataframe tbody tr th:only-of-type {\n",
       "        vertical-align: middle;\n",
       "    }\n",
       "\n",
       "    .dataframe tbody tr th {\n",
       "        vertical-align: top;\n",
       "    }\n",
       "\n",
       "    .dataframe thead th {\n",
       "        text-align: right;\n",
       "    }\n",
       "</style>\n",
       "<table border=\"1\" class=\"dataframe\">\n",
       "  <thead>\n",
       "    <tr style=\"text-align: right;\">\n",
       "      <th></th>\n",
       "      <th>overall_rank</th>\n",
       "      <th>country_or_region</th>\n",
       "      <th>score</th>\n",
       "      <th>gdp_per_capita</th>\n",
       "      <th>healthy_life_expectancy</th>\n",
       "      <th>freedom_to_make_life_choices</th>\n",
       "      <th>generosity</th>\n",
       "      <th>perceptions_of_corruption</th>\n",
       "    </tr>\n",
       "  </thead>\n",
       "  <tbody>\n",
       "    <tr>\n",
       "      <th>0</th>\n",
       "      <td>1</td>\n",
       "      <td>Finland</td>\n",
       "      <td>7.769</td>\n",
       "      <td>1.340</td>\n",
       "      <td>0.986</td>\n",
       "      <td>0.596</td>\n",
       "      <td>0.153</td>\n",
       "      <td>0.393</td>\n",
       "    </tr>\n",
       "    <tr>\n",
       "      <th>1</th>\n",
       "      <td>2</td>\n",
       "      <td>Denmark</td>\n",
       "      <td>7.600</td>\n",
       "      <td>1.383</td>\n",
       "      <td>0.996</td>\n",
       "      <td>0.592</td>\n",
       "      <td>0.252</td>\n",
       "      <td>0.410</td>\n",
       "    </tr>\n",
       "    <tr>\n",
       "      <th>2</th>\n",
       "      <td>3</td>\n",
       "      <td>Norway</td>\n",
       "      <td>7.554</td>\n",
       "      <td>1.488</td>\n",
       "      <td>1.028</td>\n",
       "      <td>0.603</td>\n",
       "      <td>0.271</td>\n",
       "      <td>0.341</td>\n",
       "    </tr>\n",
       "    <tr>\n",
       "      <th>3</th>\n",
       "      <td>4</td>\n",
       "      <td>Iceland</td>\n",
       "      <td>7.494</td>\n",
       "      <td>1.380</td>\n",
       "      <td>1.026</td>\n",
       "      <td>0.591</td>\n",
       "      <td>0.354</td>\n",
       "      <td>0.118</td>\n",
       "    </tr>\n",
       "    <tr>\n",
       "      <th>4</th>\n",
       "      <td>5</td>\n",
       "      <td>Netherlands</td>\n",
       "      <td>7.488</td>\n",
       "      <td>1.396</td>\n",
       "      <td>0.999</td>\n",
       "      <td>0.557</td>\n",
       "      <td>0.322</td>\n",
       "      <td>0.298</td>\n",
       "    </tr>\n",
       "    <tr>\n",
       "      <th>...</th>\n",
       "      <td>...</td>\n",
       "      <td>...</td>\n",
       "      <td>...</td>\n",
       "      <td>...</td>\n",
       "      <td>...</td>\n",
       "      <td>...</td>\n",
       "      <td>...</td>\n",
       "      <td>...</td>\n",
       "    </tr>\n",
       "    <tr>\n",
       "      <th>151</th>\n",
       "      <td>152</td>\n",
       "      <td>Rwanda</td>\n",
       "      <td>3.334</td>\n",
       "      <td>0.359</td>\n",
       "      <td>0.614</td>\n",
       "      <td>0.555</td>\n",
       "      <td>0.217</td>\n",
       "      <td>0.411</td>\n",
       "    </tr>\n",
       "    <tr>\n",
       "      <th>152</th>\n",
       "      <td>153</td>\n",
       "      <td>Tanzania</td>\n",
       "      <td>3.231</td>\n",
       "      <td>0.476</td>\n",
       "      <td>0.499</td>\n",
       "      <td>0.417</td>\n",
       "      <td>0.276</td>\n",
       "      <td>0.147</td>\n",
       "    </tr>\n",
       "    <tr>\n",
       "      <th>153</th>\n",
       "      <td>154</td>\n",
       "      <td>Afghanistan</td>\n",
       "      <td>3.203</td>\n",
       "      <td>0.350</td>\n",
       "      <td>0.361</td>\n",
       "      <td>0.000</td>\n",
       "      <td>0.158</td>\n",
       "      <td>0.025</td>\n",
       "    </tr>\n",
       "    <tr>\n",
       "      <th>154</th>\n",
       "      <td>155</td>\n",
       "      <td>Central African Republic</td>\n",
       "      <td>3.083</td>\n",
       "      <td>0.026</td>\n",
       "      <td>0.105</td>\n",
       "      <td>0.225</td>\n",
       "      <td>0.235</td>\n",
       "      <td>0.035</td>\n",
       "    </tr>\n",
       "    <tr>\n",
       "      <th>155</th>\n",
       "      <td>156</td>\n",
       "      <td>South Sudan</td>\n",
       "      <td>2.853</td>\n",
       "      <td>0.306</td>\n",
       "      <td>0.295</td>\n",
       "      <td>0.010</td>\n",
       "      <td>0.202</td>\n",
       "      <td>0.091</td>\n",
       "    </tr>\n",
       "  </tbody>\n",
       "</table>\n",
       "<p>156 rows × 8 columns</p>\n",
       "</div>"
      ],
      "text/plain": [
       "     overall_rank         country_or_region  score  gdp_per_capita  \\\n",
       "0               1                   Finland  7.769           1.340   \n",
       "1               2                   Denmark  7.600           1.383   \n",
       "2               3                    Norway  7.554           1.488   \n",
       "3               4                   Iceland  7.494           1.380   \n",
       "4               5               Netherlands  7.488           1.396   \n",
       "..            ...                       ...    ...             ...   \n",
       "151           152                    Rwanda  3.334           0.359   \n",
       "152           153                  Tanzania  3.231           0.476   \n",
       "153           154               Afghanistan  3.203           0.350   \n",
       "154           155  Central African Republic  3.083           0.026   \n",
       "155           156               South Sudan  2.853           0.306   \n",
       "\n",
       "     healthy_life_expectancy  freedom_to_make_life_choices  generosity  \\\n",
       "0                      0.986                         0.596       0.153   \n",
       "1                      0.996                         0.592       0.252   \n",
       "2                      1.028                         0.603       0.271   \n",
       "3                      1.026                         0.591       0.354   \n",
       "4                      0.999                         0.557       0.322   \n",
       "..                       ...                           ...         ...   \n",
       "151                    0.614                         0.555       0.217   \n",
       "152                    0.499                         0.417       0.276   \n",
       "153                    0.361                         0.000       0.158   \n",
       "154                    0.105                         0.225       0.235   \n",
       "155                    0.295                         0.010       0.202   \n",
       "\n",
       "     perceptions_of_corruption  \n",
       "0                        0.393  \n",
       "1                        0.410  \n",
       "2                        0.341  \n",
       "3                        0.118  \n",
       "4                        0.298  \n",
       "..                         ...  \n",
       "151                      0.411  \n",
       "152                      0.147  \n",
       "153                      0.025  \n",
       "154                      0.035  \n",
       "155                      0.091  \n",
       "\n",
       "[156 rows x 8 columns]"
      ]
     },
     "execution_count": 21,
     "metadata": {},
     "output_type": "execute_result"
    }
   ],
   "source": [
    "report2019"
   ]
  },
  {
   "cell_type": "code",
   "execution_count": 22,
   "metadata": {},
   "outputs": [
    {
     "name": "stdout",
     "output_type": "stream",
     "text": [
      "<class 'pandas.core.frame.DataFrame'>\n",
      "RangeIndex: 156 entries, 0 to 155\n",
      "Data columns (total 8 columns):\n",
      " #   Column                        Non-Null Count  Dtype  \n",
      "---  ------                        --------------  -----  \n",
      " 0   overall_rank                  156 non-null    int64  \n",
      " 1   country_or_region             156 non-null    object \n",
      " 2   score                         156 non-null    float64\n",
      " 3   gdp_per_capita                156 non-null    float64\n",
      " 4   healthy_life_expectancy       156 non-null    float64\n",
      " 5   freedom_to_make_life_choices  156 non-null    float64\n",
      " 6   generosity                    156 non-null    float64\n",
      " 7   perceptions_of_corruption     156 non-null    float64\n",
      "dtypes: float64(6), int64(1), object(1)\n",
      "memory usage: 9.9+ KB\n"
     ]
    }
   ],
   "source": [
    "report2019.info()"
   ]
  },
  {
   "cell_type": "markdown",
   "metadata": {},
   "source": [
    "- 2019 report is also a complete dataset and all values are in int and float, so need to alter it."
   ]
  },
  {
   "cell_type": "markdown",
   "metadata": {},
   "source": [
    "Now, we will move to next step i.e. visualization and analysis."
   ]
  },
  {
   "cell_type": "code",
   "execution_count": 23,
   "metadata": {},
   "outputs": [],
   "source": [
    "import jovian"
   ]
  },
  {
   "cell_type": "code",
   "execution_count": 24,
   "metadata": {},
   "outputs": [
    {
     "data": {
      "application/javascript": [
       "window.require && require([\"base/js/namespace\"],function(Jupyter){Jupyter.notebook.save_checkpoint()})"
      ],
      "text/plain": [
       "<IPython.core.display.Javascript object>"
      ]
     },
     "metadata": {},
     "output_type": "display_data"
    },
    {
     "name": "stdout",
     "output_type": "stream",
     "text": [
      "[jovian] Updating notebook \"dhruv171717/world-happiness-report\" on https://jovian.ai\u001b[0m\n",
      "[jovian] Committed successfully! https://jovian.ai/dhruv171717/world-happiness-report\u001b[0m\n"
     ]
    },
    {
     "data": {
      "text/plain": [
       "'https://jovian.ai/dhruv171717/world-happiness-report'"
      ]
     },
     "execution_count": 24,
     "metadata": {},
     "output_type": "execute_result"
    }
   ],
   "source": [
    "jovian.commit()"
   ]
  },
  {
   "cell_type": "markdown",
   "metadata": {},
   "source": [
    "## Exploratory Analysis and Visualization\n",
    "\n",
    "Now our dataset is ready for visualizing and finding the meaningful insights from it.\n"
   ]
  },
  {
   "cell_type": "markdown",
   "metadata": {},
   "source": [
    "Let's begin by importing`matplotlib.pyplot` and `seaborn`."
   ]
  },
  {
   "cell_type": "code",
   "execution_count": 25,
   "metadata": {},
   "outputs": [],
   "source": [
    "! pip install plotly --quiet"
   ]
  },
  {
   "cell_type": "code",
   "execution_count": 26,
   "metadata": {},
   "outputs": [
    {
     "data": {
      "text/html": [
       "        <script type=\"text/javascript\">\n",
       "        window.PlotlyConfig = {MathJaxConfig: 'local'};\n",
       "        if (window.MathJax) {MathJax.Hub.Config({SVG: {font: \"STIX-Web\"}});}\n",
       "        if (typeof require !== 'undefined') {\n",
       "        require.undef(\"plotly\");\n",
       "        requirejs.config({\n",
       "            paths: {\n",
       "                'plotly': ['https://cdn.plot.ly/plotly-2.8.3.min']\n",
       "            }\n",
       "        });\n",
       "        require(['plotly'], function(Plotly) {\n",
       "            window._Plotly = Plotly;\n",
       "        });\n",
       "        }\n",
       "        </script>\n",
       "        "
      ]
     },
     "metadata": {},
     "output_type": "display_data"
    }
   ],
   "source": [
    "from plotly.offline import download_plotlyjs,init_notebook_mode,plot,iplot\n",
    "init_notebook_mode(connected=True)\n",
    "import plotly.graph_objs as go"
   ]
  },
  {
   "cell_type": "code",
   "execution_count": 27,
   "metadata": {},
   "outputs": [],
   "source": [
    "import seaborn as sns\n",
    "import matplotlib\n",
    "import matplotlib.pyplot as plt\n",
    "import plotly.graph_objs as go\n",
    "%matplotlib inline\n",
    "\n",
    "sns.set_style('darkgrid')\n",
    "matplotlib.rcParams['font.size'] = 14\n",
    "matplotlib.rcParams['figure.figsize'] = (10, 6)\n",
    "matplotlib.rcParams['figure.facecolor'] = '#00000000'"
   ]
  },
  {
   "cell_type": "markdown",
   "metadata": {},
   "source": [
    "### Report of 2015 "
   ]
  },
  {
   "cell_type": "code",
   "execution_count": 28,
   "metadata": {},
   "outputs": [
    {
     "data": {
      "application/vnd.plotly.v1+json": {
       "config": {
        "linkText": "Export to plot.ly",
        "plotlyServerURL": "https://plot.ly",
        "showLink": false
       },
       "data": [
        {
         "colorbar": {
          "title": {
           "text": "Happiness Score"
          }
         },
         "colorscale": [
          [
           0,
           "rgb(247,252,245)"
          ],
          [
           0.125,
           "rgb(229,245,224)"
          ],
          [
           0.25,
           "rgb(199,233,192)"
          ],
          [
           0.375,
           "rgb(161,217,155)"
          ],
          [
           0.5,
           "rgb(116,196,118)"
          ],
          [
           0.625,
           "rgb(65,171,93)"
          ],
          [
           0.75,
           "rgb(35,139,69)"
          ],
          [
           0.875,
           "rgb(0,109,44)"
          ],
          [
           1,
           "rgb(0,68,27)"
          ]
         ],
         "locationmode": "country names",
         "locations": [
          "Switzerland",
          "Iceland",
          "Denmark",
          "Norway",
          "Canada",
          "Finland",
          "Netherlands",
          "Sweden",
          "New Zealand",
          "Australia",
          "Israel",
          "Costa Rica",
          "Austria",
          "Mexico",
          "United States",
          "Brazil",
          "Luxembourg",
          "Ireland",
          "Belgium",
          "United Arab Emirates",
          "United Kingdom",
          "Oman",
          "Venezuela",
          "Singapore",
          "Panama",
          "Germany",
          "Chile",
          "Qatar",
          "France",
          "Argentina",
          "Czech Republic",
          "Uruguay",
          "Colombia",
          "Thailand",
          "Saudi Arabia",
          "Spain",
          "Malta",
          "Taiwan",
          "Kuwait",
          "Suriname",
          "Trinidad and Tobago",
          "El Salvador",
          "Guatemala",
          "Uzbekistan",
          "Slovakia",
          "Japan",
          "South Korea",
          "Ecuador",
          "Bahrain",
          "Italy",
          "Bolivia",
          "Moldova",
          "Paraguay",
          "Kazakhstan",
          "Slovenia",
          "Lithuania",
          "Nicaragua",
          "Peru",
          "Belarus",
          "Poland",
          "Malaysia",
          "Croatia",
          "Libya",
          "Russia",
          "Jamaica",
          "North Cyprus",
          "Cyprus",
          "Algeria",
          "Kosovo",
          "Turkmenistan",
          "Mauritius",
          "Hong Kong",
          "Estonia",
          "Indonesia",
          "Vietnam",
          "Turkey",
          "Kyrgyzstan",
          "Nigeria",
          "Bhutan",
          "Azerbaijan",
          "Pakistan",
          "Jordan",
          "Montenegro",
          "China",
          "Zambia",
          "Romania",
          "Serbia",
          "Portugal",
          "Latvia",
          "Philippines",
          "Somaliland region",
          "Morocco",
          "Macedonia",
          "Mozambique",
          "Albania",
          "Bosnia and Herzegovina",
          "Lesotho",
          "Dominican Republic",
          "Laos",
          "Mongolia",
          "Swaziland",
          "Greece",
          "Lebanon",
          "Hungary",
          "Honduras",
          "Tajikistan",
          "Tunisia",
          "Palestinian Territories",
          "Bangladesh",
          "Iran",
          "Ukraine",
          "Iraq",
          "South Africa",
          "Ghana",
          "Zimbabwe",
          "Liberia",
          "India",
          "Sudan",
          "Haiti",
          "Congo (Kinshasa)",
          "Nepal",
          "Ethiopia",
          "Sierra Leone",
          "Mauritania",
          "Kenya",
          "Djibouti",
          "Armenia",
          "Botswana",
          "Myanmar",
          "Georgia",
          "Malawi",
          "Sri Lanka",
          "Cameroon",
          "Bulgaria",
          "Egypt",
          "Yemen",
          "Angola",
          "Mali",
          "Congo (Brazzaville)",
          "Comoros",
          "Uganda",
          "Senegal",
          "Gabon",
          "Niger",
          "Cambodia",
          "Tanzania",
          "Madagascar",
          "Central African Republic",
          "Chad",
          "Guinea",
          "Ivory Coast",
          "Burkina Faso",
          "Afghanistan",
          "Rwanda",
          "Benin",
          "Syria",
          "Burundi",
          "Togo"
         ],
         "text": [
          "Switzerland",
          "Iceland",
          "Denmark",
          "Norway",
          "Canada",
          "Finland",
          "Netherlands",
          "Sweden",
          "New Zealand",
          "Australia",
          "Israel",
          "Costa Rica",
          "Austria",
          "Mexico",
          "United States",
          "Brazil",
          "Luxembourg",
          "Ireland",
          "Belgium",
          "United Arab Emirates",
          "United Kingdom",
          "Oman",
          "Venezuela",
          "Singapore",
          "Panama",
          "Germany",
          "Chile",
          "Qatar",
          "France",
          "Argentina",
          "Czech Republic",
          "Uruguay",
          "Colombia",
          "Thailand",
          "Saudi Arabia",
          "Spain",
          "Malta",
          "Taiwan",
          "Kuwait",
          "Suriname",
          "Trinidad and Tobago",
          "El Salvador",
          "Guatemala",
          "Uzbekistan",
          "Slovakia",
          "Japan",
          "South Korea",
          "Ecuador",
          "Bahrain",
          "Italy",
          "Bolivia",
          "Moldova",
          "Paraguay",
          "Kazakhstan",
          "Slovenia",
          "Lithuania",
          "Nicaragua",
          "Peru",
          "Belarus",
          "Poland",
          "Malaysia",
          "Croatia",
          "Libya",
          "Russia",
          "Jamaica",
          "North Cyprus",
          "Cyprus",
          "Algeria",
          "Kosovo",
          "Turkmenistan",
          "Mauritius",
          "Hong Kong",
          "Estonia",
          "Indonesia",
          "Vietnam",
          "Turkey",
          "Kyrgyzstan",
          "Nigeria",
          "Bhutan",
          "Azerbaijan",
          "Pakistan",
          "Jordan",
          "Montenegro",
          "China",
          "Zambia",
          "Romania",
          "Serbia",
          "Portugal",
          "Latvia",
          "Philippines",
          "Somaliland region",
          "Morocco",
          "Macedonia",
          "Mozambique",
          "Albania",
          "Bosnia and Herzegovina",
          "Lesotho",
          "Dominican Republic",
          "Laos",
          "Mongolia",
          "Swaziland",
          "Greece",
          "Lebanon",
          "Hungary",
          "Honduras",
          "Tajikistan",
          "Tunisia",
          "Palestinian Territories",
          "Bangladesh",
          "Iran",
          "Ukraine",
          "Iraq",
          "South Africa",
          "Ghana",
          "Zimbabwe",
          "Liberia",
          "India",
          "Sudan",
          "Haiti",
          "Congo (Kinshasa)",
          "Nepal",
          "Ethiopia",
          "Sierra Leone",
          "Mauritania",
          "Kenya",
          "Djibouti",
          "Armenia",
          "Botswana",
          "Myanmar",
          "Georgia",
          "Malawi",
          "Sri Lanka",
          "Cameroon",
          "Bulgaria",
          "Egypt",
          "Yemen",
          "Angola",
          "Mali",
          "Congo (Brazzaville)",
          "Comoros",
          "Uganda",
          "Senegal",
          "Gabon",
          "Niger",
          "Cambodia",
          "Tanzania",
          "Madagascar",
          "Central African Republic",
          "Chad",
          "Guinea",
          "Ivory Coast",
          "Burkina Faso",
          "Afghanistan",
          "Rwanda",
          "Benin",
          "Syria",
          "Burundi",
          "Togo"
         ],
         "type": "choropleth",
         "z": [
          7.587,
          7.561,
          7.527,
          7.522,
          7.427,
          7.406,
          7.378,
          7.364,
          7.286,
          7.284,
          7.278,
          7.226,
          7.2,
          7.187,
          7.119,
          6.983,
          6.946,
          6.94,
          6.937,
          6.901,
          6.867,
          6.853,
          6.81,
          6.798,
          6.786,
          6.75,
          6.67,
          6.611,
          6.575,
          6.574,
          6.505,
          6.485,
          6.477,
          6.455,
          6.411,
          6.329,
          6.302,
          6.298,
          6.295,
          6.269,
          6.168,
          6.13,
          6.123,
          6.003,
          5.995,
          5.987,
          5.984,
          5.975,
          5.96,
          5.948,
          5.89,
          5.889,
          5.878,
          5.855,
          5.848,
          5.833,
          5.828,
          5.824,
          5.813,
          5.791,
          5.77,
          5.759,
          5.754,
          5.716,
          5.709,
          5.695,
          5.689,
          5.605,
          5.589,
          5.548,
          5.477,
          5.474,
          5.429,
          5.399,
          5.36,
          5.332,
          5.286,
          5.268,
          5.253,
          5.212,
          5.194,
          5.192,
          5.192,
          5.14,
          5.129,
          5.124,
          5.123,
          5.102,
          5.098,
          5.073,
          5.057,
          5.013,
          5.007,
          4.971,
          4.959,
          4.949,
          4.898,
          4.885,
          4.876,
          4.874,
          4.867,
          4.857,
          4.839,
          4.8,
          4.788,
          4.786,
          4.739,
          4.715,
          4.694,
          4.686,
          4.681,
          4.677,
          4.642,
          4.633,
          4.61,
          4.571,
          4.565,
          4.55,
          4.518,
          4.517,
          4.514,
          4.512,
          4.507,
          4.436,
          4.419,
          4.369,
          4.35,
          4.332,
          4.307,
          4.297,
          4.292,
          4.271,
          4.252,
          4.218,
          4.194,
          4.077,
          4.033,
          3.995,
          3.989,
          3.956,
          3.931,
          3.904,
          3.896,
          3.845,
          3.819,
          3.781,
          3.681,
          3.678,
          3.667,
          3.656,
          3.655,
          3.587,
          3.575,
          3.465,
          3.34,
          3.006,
          2.905,
          2.839
         ]
        }
       ],
       "layout": {
        "geo": {
         "projection": {
          "type": "natural earth"
         },
         "showframe": true
        },
        "template": {
         "data": {
          "bar": [
           {
            "error_x": {
             "color": "#2a3f5f"
            },
            "error_y": {
             "color": "#2a3f5f"
            },
            "marker": {
             "line": {
              "color": "#E5ECF6",
              "width": 0.5
             },
             "pattern": {
              "fillmode": "overlay",
              "size": 10,
              "solidity": 0.2
             }
            },
            "type": "bar"
           }
          ],
          "barpolar": [
           {
            "marker": {
             "line": {
              "color": "#E5ECF6",
              "width": 0.5
             },
             "pattern": {
              "fillmode": "overlay",
              "size": 10,
              "solidity": 0.2
             }
            },
            "type": "barpolar"
           }
          ],
          "carpet": [
           {
            "aaxis": {
             "endlinecolor": "#2a3f5f",
             "gridcolor": "white",
             "linecolor": "white",
             "minorgridcolor": "white",
             "startlinecolor": "#2a3f5f"
            },
            "baxis": {
             "endlinecolor": "#2a3f5f",
             "gridcolor": "white",
             "linecolor": "white",
             "minorgridcolor": "white",
             "startlinecolor": "#2a3f5f"
            },
            "type": "carpet"
           }
          ],
          "choropleth": [
           {
            "colorbar": {
             "outlinewidth": 0,
             "ticks": ""
            },
            "type": "choropleth"
           }
          ],
          "contour": [
           {
            "colorbar": {
             "outlinewidth": 0,
             "ticks": ""
            },
            "colorscale": [
             [
              0,
              "#0d0887"
             ],
             [
              0.1111111111111111,
              "#46039f"
             ],
             [
              0.2222222222222222,
              "#7201a8"
             ],
             [
              0.3333333333333333,
              "#9c179e"
             ],
             [
              0.4444444444444444,
              "#bd3786"
             ],
             [
              0.5555555555555556,
              "#d8576b"
             ],
             [
              0.6666666666666666,
              "#ed7953"
             ],
             [
              0.7777777777777778,
              "#fb9f3a"
             ],
             [
              0.8888888888888888,
              "#fdca26"
             ],
             [
              1,
              "#f0f921"
             ]
            ],
            "type": "contour"
           }
          ],
          "contourcarpet": [
           {
            "colorbar": {
             "outlinewidth": 0,
             "ticks": ""
            },
            "type": "contourcarpet"
           }
          ],
          "heatmap": [
           {
            "colorbar": {
             "outlinewidth": 0,
             "ticks": ""
            },
            "colorscale": [
             [
              0,
              "#0d0887"
             ],
             [
              0.1111111111111111,
              "#46039f"
             ],
             [
              0.2222222222222222,
              "#7201a8"
             ],
             [
              0.3333333333333333,
              "#9c179e"
             ],
             [
              0.4444444444444444,
              "#bd3786"
             ],
             [
              0.5555555555555556,
              "#d8576b"
             ],
             [
              0.6666666666666666,
              "#ed7953"
             ],
             [
              0.7777777777777778,
              "#fb9f3a"
             ],
             [
              0.8888888888888888,
              "#fdca26"
             ],
             [
              1,
              "#f0f921"
             ]
            ],
            "type": "heatmap"
           }
          ],
          "heatmapgl": [
           {
            "colorbar": {
             "outlinewidth": 0,
             "ticks": ""
            },
            "colorscale": [
             [
              0,
              "#0d0887"
             ],
             [
              0.1111111111111111,
              "#46039f"
             ],
             [
              0.2222222222222222,
              "#7201a8"
             ],
             [
              0.3333333333333333,
              "#9c179e"
             ],
             [
              0.4444444444444444,
              "#bd3786"
             ],
             [
              0.5555555555555556,
              "#d8576b"
             ],
             [
              0.6666666666666666,
              "#ed7953"
             ],
             [
              0.7777777777777778,
              "#fb9f3a"
             ],
             [
              0.8888888888888888,
              "#fdca26"
             ],
             [
              1,
              "#f0f921"
             ]
            ],
            "type": "heatmapgl"
           }
          ],
          "histogram": [
           {
            "marker": {
             "pattern": {
              "fillmode": "overlay",
              "size": 10,
              "solidity": 0.2
             }
            },
            "type": "histogram"
           }
          ],
          "histogram2d": [
           {
            "colorbar": {
             "outlinewidth": 0,
             "ticks": ""
            },
            "colorscale": [
             [
              0,
              "#0d0887"
             ],
             [
              0.1111111111111111,
              "#46039f"
             ],
             [
              0.2222222222222222,
              "#7201a8"
             ],
             [
              0.3333333333333333,
              "#9c179e"
             ],
             [
              0.4444444444444444,
              "#bd3786"
             ],
             [
              0.5555555555555556,
              "#d8576b"
             ],
             [
              0.6666666666666666,
              "#ed7953"
             ],
             [
              0.7777777777777778,
              "#fb9f3a"
             ],
             [
              0.8888888888888888,
              "#fdca26"
             ],
             [
              1,
              "#f0f921"
             ]
            ],
            "type": "histogram2d"
           }
          ],
          "histogram2dcontour": [
           {
            "colorbar": {
             "outlinewidth": 0,
             "ticks": ""
            },
            "colorscale": [
             [
              0,
              "#0d0887"
             ],
             [
              0.1111111111111111,
              "#46039f"
             ],
             [
              0.2222222222222222,
              "#7201a8"
             ],
             [
              0.3333333333333333,
              "#9c179e"
             ],
             [
              0.4444444444444444,
              "#bd3786"
             ],
             [
              0.5555555555555556,
              "#d8576b"
             ],
             [
              0.6666666666666666,
              "#ed7953"
             ],
             [
              0.7777777777777778,
              "#fb9f3a"
             ],
             [
              0.8888888888888888,
              "#fdca26"
             ],
             [
              1,
              "#f0f921"
             ]
            ],
            "type": "histogram2dcontour"
           }
          ],
          "mesh3d": [
           {
            "colorbar": {
             "outlinewidth": 0,
             "ticks": ""
            },
            "type": "mesh3d"
           }
          ],
          "parcoords": [
           {
            "line": {
             "colorbar": {
              "outlinewidth": 0,
              "ticks": ""
             }
            },
            "type": "parcoords"
           }
          ],
          "pie": [
           {
            "automargin": true,
            "type": "pie"
           }
          ],
          "scatter": [
           {
            "marker": {
             "colorbar": {
              "outlinewidth": 0,
              "ticks": ""
             }
            },
            "type": "scatter"
           }
          ],
          "scatter3d": [
           {
            "line": {
             "colorbar": {
              "outlinewidth": 0,
              "ticks": ""
             }
            },
            "marker": {
             "colorbar": {
              "outlinewidth": 0,
              "ticks": ""
             }
            },
            "type": "scatter3d"
           }
          ],
          "scattercarpet": [
           {
            "marker": {
             "colorbar": {
              "outlinewidth": 0,
              "ticks": ""
             }
            },
            "type": "scattercarpet"
           }
          ],
          "scattergeo": [
           {
            "marker": {
             "colorbar": {
              "outlinewidth": 0,
              "ticks": ""
             }
            },
            "type": "scattergeo"
           }
          ],
          "scattergl": [
           {
            "marker": {
             "colorbar": {
              "outlinewidth": 0,
              "ticks": ""
             }
            },
            "type": "scattergl"
           }
          ],
          "scattermapbox": [
           {
            "marker": {
             "colorbar": {
              "outlinewidth": 0,
              "ticks": ""
             }
            },
            "type": "scattermapbox"
           }
          ],
          "scatterpolar": [
           {
            "marker": {
             "colorbar": {
              "outlinewidth": 0,
              "ticks": ""
             }
            },
            "type": "scatterpolar"
           }
          ],
          "scatterpolargl": [
           {
            "marker": {
             "colorbar": {
              "outlinewidth": 0,
              "ticks": ""
             }
            },
            "type": "scatterpolargl"
           }
          ],
          "scatterternary": [
           {
            "marker": {
             "colorbar": {
              "outlinewidth": 0,
              "ticks": ""
             }
            },
            "type": "scatterternary"
           }
          ],
          "surface": [
           {
            "colorbar": {
             "outlinewidth": 0,
             "ticks": ""
            },
            "colorscale": [
             [
              0,
              "#0d0887"
             ],
             [
              0.1111111111111111,
              "#46039f"
             ],
             [
              0.2222222222222222,
              "#7201a8"
             ],
             [
              0.3333333333333333,
              "#9c179e"
             ],
             [
              0.4444444444444444,
              "#bd3786"
             ],
             [
              0.5555555555555556,
              "#d8576b"
             ],
             [
              0.6666666666666666,
              "#ed7953"
             ],
             [
              0.7777777777777778,
              "#fb9f3a"
             ],
             [
              0.8888888888888888,
              "#fdca26"
             ],
             [
              1,
              "#f0f921"
             ]
            ],
            "type": "surface"
           }
          ],
          "table": [
           {
            "cells": {
             "fill": {
              "color": "#EBF0F8"
             },
             "line": {
              "color": "white"
             }
            },
            "header": {
             "fill": {
              "color": "#C8D4E3"
             },
             "line": {
              "color": "white"
             }
            },
            "type": "table"
           }
          ]
         },
         "layout": {
          "annotationdefaults": {
           "arrowcolor": "#2a3f5f",
           "arrowhead": 0,
           "arrowwidth": 1
          },
          "autotypenumbers": "strict",
          "coloraxis": {
           "colorbar": {
            "outlinewidth": 0,
            "ticks": ""
           }
          },
          "colorscale": {
           "diverging": [
            [
             0,
             "#8e0152"
            ],
            [
             0.1,
             "#c51b7d"
            ],
            [
             0.2,
             "#de77ae"
            ],
            [
             0.3,
             "#f1b6da"
            ],
            [
             0.4,
             "#fde0ef"
            ],
            [
             0.5,
             "#f7f7f7"
            ],
            [
             0.6,
             "#e6f5d0"
            ],
            [
             0.7,
             "#b8e186"
            ],
            [
             0.8,
             "#7fbc41"
            ],
            [
             0.9,
             "#4d9221"
            ],
            [
             1,
             "#276419"
            ]
           ],
           "sequential": [
            [
             0,
             "#0d0887"
            ],
            [
             0.1111111111111111,
             "#46039f"
            ],
            [
             0.2222222222222222,
             "#7201a8"
            ],
            [
             0.3333333333333333,
             "#9c179e"
            ],
            [
             0.4444444444444444,
             "#bd3786"
            ],
            [
             0.5555555555555556,
             "#d8576b"
            ],
            [
             0.6666666666666666,
             "#ed7953"
            ],
            [
             0.7777777777777778,
             "#fb9f3a"
            ],
            [
             0.8888888888888888,
             "#fdca26"
            ],
            [
             1,
             "#f0f921"
            ]
           ],
           "sequentialminus": [
            [
             0,
             "#0d0887"
            ],
            [
             0.1111111111111111,
             "#46039f"
            ],
            [
             0.2222222222222222,
             "#7201a8"
            ],
            [
             0.3333333333333333,
             "#9c179e"
            ],
            [
             0.4444444444444444,
             "#bd3786"
            ],
            [
             0.5555555555555556,
             "#d8576b"
            ],
            [
             0.6666666666666666,
             "#ed7953"
            ],
            [
             0.7777777777777778,
             "#fb9f3a"
            ],
            [
             0.8888888888888888,
             "#fdca26"
            ],
            [
             1,
             "#f0f921"
            ]
           ]
          },
          "colorway": [
           "#636efa",
           "#EF553B",
           "#00cc96",
           "#ab63fa",
           "#FFA15A",
           "#19d3f3",
           "#FF6692",
           "#B6E880",
           "#FF97FF",
           "#FECB52"
          ],
          "font": {
           "color": "#2a3f5f"
          },
          "geo": {
           "bgcolor": "white",
           "lakecolor": "white",
           "landcolor": "#E5ECF6",
           "showlakes": true,
           "showland": true,
           "subunitcolor": "white"
          },
          "hoverlabel": {
           "align": "left"
          },
          "hovermode": "closest",
          "mapbox": {
           "style": "light"
          },
          "paper_bgcolor": "white",
          "plot_bgcolor": "#E5ECF6",
          "polar": {
           "angularaxis": {
            "gridcolor": "white",
            "linecolor": "white",
            "ticks": ""
           },
           "bgcolor": "#E5ECF6",
           "radialaxis": {
            "gridcolor": "white",
            "linecolor": "white",
            "ticks": ""
           }
          },
          "scene": {
           "xaxis": {
            "backgroundcolor": "#E5ECF6",
            "gridcolor": "white",
            "gridwidth": 2,
            "linecolor": "white",
            "showbackground": true,
            "ticks": "",
            "zerolinecolor": "white"
           },
           "yaxis": {
            "backgroundcolor": "#E5ECF6",
            "gridcolor": "white",
            "gridwidth": 2,
            "linecolor": "white",
            "showbackground": true,
            "ticks": "",
            "zerolinecolor": "white"
           },
           "zaxis": {
            "backgroundcolor": "#E5ECF6",
            "gridcolor": "white",
            "gridwidth": 2,
            "linecolor": "white",
            "showbackground": true,
            "ticks": "",
            "zerolinecolor": "white"
           }
          },
          "shapedefaults": {
           "line": {
            "color": "#2a3f5f"
           }
          },
          "ternary": {
           "aaxis": {
            "gridcolor": "white",
            "linecolor": "white",
            "ticks": ""
           },
           "baxis": {
            "gridcolor": "white",
            "linecolor": "white",
            "ticks": ""
           },
           "bgcolor": "#E5ECF6",
           "caxis": {
            "gridcolor": "white",
            "linecolor": "white",
            "ticks": ""
           }
          },
          "title": {
           "x": 0.05
          },
          "xaxis": {
           "automargin": true,
           "gridcolor": "white",
           "linecolor": "white",
           "ticks": "",
           "title": {
            "standoff": 15
           },
           "zerolinecolor": "white",
           "zerolinewidth": 2
          },
          "yaxis": {
           "automargin": true,
           "gridcolor": "white",
           "linecolor": "white",
           "ticks": "",
           "title": {
            "standoff": 15
           },
           "zerolinecolor": "white",
           "zerolinewidth": 2
          }
         }
        },
        "title": {
         "text": "2015 World Happiness Score"
        }
       }
      },
      "text/html": [
       "<div>                            <div id=\"9b1ae8df-0fc7-4478-826b-dcec426a9b51\" class=\"plotly-graph-div\" style=\"height:525px; width:100%;\"></div>            <script type=\"text/javascript\">                require([\"plotly\"], function(Plotly) {                    window.PLOTLYENV=window.PLOTLYENV || {};                                    if (document.getElementById(\"9b1ae8df-0fc7-4478-826b-dcec426a9b51\")) {                    Plotly.newPlot(                        \"9b1ae8df-0fc7-4478-826b-dcec426a9b51\",                        [{\"colorbar\":{\"title\":{\"text\":\"Happiness Score\"}},\"colorscale\":[[0.0,\"rgb(247,252,245)\"],[0.125,\"rgb(229,245,224)\"],[0.25,\"rgb(199,233,192)\"],[0.375,\"rgb(161,217,155)\"],[0.5,\"rgb(116,196,118)\"],[0.625,\"rgb(65,171,93)\"],[0.75,\"rgb(35,139,69)\"],[0.875,\"rgb(0,109,44)\"],[1.0,\"rgb(0,68,27)\"]],\"locationmode\":\"country names\",\"locations\":[\"Switzerland\",\"Iceland\",\"Denmark\",\"Norway\",\"Canada\",\"Finland\",\"Netherlands\",\"Sweden\",\"New Zealand\",\"Australia\",\"Israel\",\"Costa Rica\",\"Austria\",\"Mexico\",\"United States\",\"Brazil\",\"Luxembourg\",\"Ireland\",\"Belgium\",\"United Arab Emirates\",\"United Kingdom\",\"Oman\",\"Venezuela\",\"Singapore\",\"Panama\",\"Germany\",\"Chile\",\"Qatar\",\"France\",\"Argentina\",\"Czech Republic\",\"Uruguay\",\"Colombia\",\"Thailand\",\"Saudi Arabia\",\"Spain\",\"Malta\",\"Taiwan\",\"Kuwait\",\"Suriname\",\"Trinidad and Tobago\",\"El Salvador\",\"Guatemala\",\"Uzbekistan\",\"Slovakia\",\"Japan\",\"South Korea\",\"Ecuador\",\"Bahrain\",\"Italy\",\"Bolivia\",\"Moldova\",\"Paraguay\",\"Kazakhstan\",\"Slovenia\",\"Lithuania\",\"Nicaragua\",\"Peru\",\"Belarus\",\"Poland\",\"Malaysia\",\"Croatia\",\"Libya\",\"Russia\",\"Jamaica\",\"North Cyprus\",\"Cyprus\",\"Algeria\",\"Kosovo\",\"Turkmenistan\",\"Mauritius\",\"Hong Kong\",\"Estonia\",\"Indonesia\",\"Vietnam\",\"Turkey\",\"Kyrgyzstan\",\"Nigeria\",\"Bhutan\",\"Azerbaijan\",\"Pakistan\",\"Jordan\",\"Montenegro\",\"China\",\"Zambia\",\"Romania\",\"Serbia\",\"Portugal\",\"Latvia\",\"Philippines\",\"Somaliland region\",\"Morocco\",\"Macedonia\",\"Mozambique\",\"Albania\",\"Bosnia and Herzegovina\",\"Lesotho\",\"Dominican Republic\",\"Laos\",\"Mongolia\",\"Swaziland\",\"Greece\",\"Lebanon\",\"Hungary\",\"Honduras\",\"Tajikistan\",\"Tunisia\",\"Palestinian Territories\",\"Bangladesh\",\"Iran\",\"Ukraine\",\"Iraq\",\"South Africa\",\"Ghana\",\"Zimbabwe\",\"Liberia\",\"India\",\"Sudan\",\"Haiti\",\"Congo (Kinshasa)\",\"Nepal\",\"Ethiopia\",\"Sierra Leone\",\"Mauritania\",\"Kenya\",\"Djibouti\",\"Armenia\",\"Botswana\",\"Myanmar\",\"Georgia\",\"Malawi\",\"Sri Lanka\",\"Cameroon\",\"Bulgaria\",\"Egypt\",\"Yemen\",\"Angola\",\"Mali\",\"Congo (Brazzaville)\",\"Comoros\",\"Uganda\",\"Senegal\",\"Gabon\",\"Niger\",\"Cambodia\",\"Tanzania\",\"Madagascar\",\"Central African Republic\",\"Chad\",\"Guinea\",\"Ivory Coast\",\"Burkina Faso\",\"Afghanistan\",\"Rwanda\",\"Benin\",\"Syria\",\"Burundi\",\"Togo\"],\"text\":[\"Switzerland\",\"Iceland\",\"Denmark\",\"Norway\",\"Canada\",\"Finland\",\"Netherlands\",\"Sweden\",\"New Zealand\",\"Australia\",\"Israel\",\"Costa Rica\",\"Austria\",\"Mexico\",\"United States\",\"Brazil\",\"Luxembourg\",\"Ireland\",\"Belgium\",\"United Arab Emirates\",\"United Kingdom\",\"Oman\",\"Venezuela\",\"Singapore\",\"Panama\",\"Germany\",\"Chile\",\"Qatar\",\"France\",\"Argentina\",\"Czech Republic\",\"Uruguay\",\"Colombia\",\"Thailand\",\"Saudi Arabia\",\"Spain\",\"Malta\",\"Taiwan\",\"Kuwait\",\"Suriname\",\"Trinidad and Tobago\",\"El Salvador\",\"Guatemala\",\"Uzbekistan\",\"Slovakia\",\"Japan\",\"South Korea\",\"Ecuador\",\"Bahrain\",\"Italy\",\"Bolivia\",\"Moldova\",\"Paraguay\",\"Kazakhstan\",\"Slovenia\",\"Lithuania\",\"Nicaragua\",\"Peru\",\"Belarus\",\"Poland\",\"Malaysia\",\"Croatia\",\"Libya\",\"Russia\",\"Jamaica\",\"North Cyprus\",\"Cyprus\",\"Algeria\",\"Kosovo\",\"Turkmenistan\",\"Mauritius\",\"Hong Kong\",\"Estonia\",\"Indonesia\",\"Vietnam\",\"Turkey\",\"Kyrgyzstan\",\"Nigeria\",\"Bhutan\",\"Azerbaijan\",\"Pakistan\",\"Jordan\",\"Montenegro\",\"China\",\"Zambia\",\"Romania\",\"Serbia\",\"Portugal\",\"Latvia\",\"Philippines\",\"Somaliland region\",\"Morocco\",\"Macedonia\",\"Mozambique\",\"Albania\",\"Bosnia and Herzegovina\",\"Lesotho\",\"Dominican Republic\",\"Laos\",\"Mongolia\",\"Swaziland\",\"Greece\",\"Lebanon\",\"Hungary\",\"Honduras\",\"Tajikistan\",\"Tunisia\",\"Palestinian Territories\",\"Bangladesh\",\"Iran\",\"Ukraine\",\"Iraq\",\"South Africa\",\"Ghana\",\"Zimbabwe\",\"Liberia\",\"India\",\"Sudan\",\"Haiti\",\"Congo (Kinshasa)\",\"Nepal\",\"Ethiopia\",\"Sierra Leone\",\"Mauritania\",\"Kenya\",\"Djibouti\",\"Armenia\",\"Botswana\",\"Myanmar\",\"Georgia\",\"Malawi\",\"Sri Lanka\",\"Cameroon\",\"Bulgaria\",\"Egypt\",\"Yemen\",\"Angola\",\"Mali\",\"Congo (Brazzaville)\",\"Comoros\",\"Uganda\",\"Senegal\",\"Gabon\",\"Niger\",\"Cambodia\",\"Tanzania\",\"Madagascar\",\"Central African Republic\",\"Chad\",\"Guinea\",\"Ivory Coast\",\"Burkina Faso\",\"Afghanistan\",\"Rwanda\",\"Benin\",\"Syria\",\"Burundi\",\"Togo\"],\"z\":[7.587,7.561,7.527,7.522,7.427,7.406,7.378,7.364,7.286,7.284,7.278,7.226,7.2,7.187,7.119,6.983,6.946,6.94,6.937,6.901,6.867,6.853,6.81,6.798,6.786,6.75,6.67,6.611,6.575,6.574,6.505,6.485,6.477,6.455,6.411,6.329,6.302,6.298,6.295,6.269,6.168,6.13,6.123,6.003,5.995,5.987,5.984,5.975,5.96,5.948,5.89,5.889,5.878,5.855,5.848,5.833,5.828,5.824,5.813,5.791,5.77,5.759,5.754,5.716,5.709,5.695,5.689,5.605,5.589,5.548,5.477,5.474,5.429,5.399,5.36,5.332,5.286,5.268,5.253,5.212,5.194,5.192,5.192,5.14,5.129,5.124,5.123,5.102,5.098,5.073,5.057,5.013,5.007,4.971,4.959,4.949,4.898,4.885,4.876,4.874,4.867,4.857,4.839,4.8,4.788,4.786,4.739,4.715,4.694,4.686,4.681,4.677,4.642,4.633,4.61,4.571,4.565,4.55,4.518,4.517,4.514,4.512,4.507,4.436,4.419,4.369,4.35,4.332,4.307,4.297,4.292,4.271,4.252,4.218,4.194,4.077,4.033,3.995,3.989,3.956,3.931,3.904,3.896,3.845,3.819,3.781,3.681,3.678,3.667,3.656,3.655,3.587,3.575,3.465,3.34,3.006,2.905,2.839],\"type\":\"choropleth\"}],                        {\"geo\":{\"projection\":{\"type\":\"natural earth\"},\"showframe\":true},\"template\":{\"data\":{\"barpolar\":[{\"marker\":{\"line\":{\"color\":\"#E5ECF6\",\"width\":0.5},\"pattern\":{\"fillmode\":\"overlay\",\"size\":10,\"solidity\":0.2}},\"type\":\"barpolar\"}],\"bar\":[{\"error_x\":{\"color\":\"#2a3f5f\"},\"error_y\":{\"color\":\"#2a3f5f\"},\"marker\":{\"line\":{\"color\":\"#E5ECF6\",\"width\":0.5},\"pattern\":{\"fillmode\":\"overlay\",\"size\":10,\"solidity\":0.2}},\"type\":\"bar\"}],\"carpet\":[{\"aaxis\":{\"endlinecolor\":\"#2a3f5f\",\"gridcolor\":\"white\",\"linecolor\":\"white\",\"minorgridcolor\":\"white\",\"startlinecolor\":\"#2a3f5f\"},\"baxis\":{\"endlinecolor\":\"#2a3f5f\",\"gridcolor\":\"white\",\"linecolor\":\"white\",\"minorgridcolor\":\"white\",\"startlinecolor\":\"#2a3f5f\"},\"type\":\"carpet\"}],\"choropleth\":[{\"colorbar\":{\"outlinewidth\":0,\"ticks\":\"\"},\"type\":\"choropleth\"}],\"contourcarpet\":[{\"colorbar\":{\"outlinewidth\":0,\"ticks\":\"\"},\"type\":\"contourcarpet\"}],\"contour\":[{\"colorbar\":{\"outlinewidth\":0,\"ticks\":\"\"},\"colorscale\":[[0.0,\"#0d0887\"],[0.1111111111111111,\"#46039f\"],[0.2222222222222222,\"#7201a8\"],[0.3333333333333333,\"#9c179e\"],[0.4444444444444444,\"#bd3786\"],[0.5555555555555556,\"#d8576b\"],[0.6666666666666666,\"#ed7953\"],[0.7777777777777778,\"#fb9f3a\"],[0.8888888888888888,\"#fdca26\"],[1.0,\"#f0f921\"]],\"type\":\"contour\"}],\"heatmapgl\":[{\"colorbar\":{\"outlinewidth\":0,\"ticks\":\"\"},\"colorscale\":[[0.0,\"#0d0887\"],[0.1111111111111111,\"#46039f\"],[0.2222222222222222,\"#7201a8\"],[0.3333333333333333,\"#9c179e\"],[0.4444444444444444,\"#bd3786\"],[0.5555555555555556,\"#d8576b\"],[0.6666666666666666,\"#ed7953\"],[0.7777777777777778,\"#fb9f3a\"],[0.8888888888888888,\"#fdca26\"],[1.0,\"#f0f921\"]],\"type\":\"heatmapgl\"}],\"heatmap\":[{\"colorbar\":{\"outlinewidth\":0,\"ticks\":\"\"},\"colorscale\":[[0.0,\"#0d0887\"],[0.1111111111111111,\"#46039f\"],[0.2222222222222222,\"#7201a8\"],[0.3333333333333333,\"#9c179e\"],[0.4444444444444444,\"#bd3786\"],[0.5555555555555556,\"#d8576b\"],[0.6666666666666666,\"#ed7953\"],[0.7777777777777778,\"#fb9f3a\"],[0.8888888888888888,\"#fdca26\"],[1.0,\"#f0f921\"]],\"type\":\"heatmap\"}],\"histogram2dcontour\":[{\"colorbar\":{\"outlinewidth\":0,\"ticks\":\"\"},\"colorscale\":[[0.0,\"#0d0887\"],[0.1111111111111111,\"#46039f\"],[0.2222222222222222,\"#7201a8\"],[0.3333333333333333,\"#9c179e\"],[0.4444444444444444,\"#bd3786\"],[0.5555555555555556,\"#d8576b\"],[0.6666666666666666,\"#ed7953\"],[0.7777777777777778,\"#fb9f3a\"],[0.8888888888888888,\"#fdca26\"],[1.0,\"#f0f921\"]],\"type\":\"histogram2dcontour\"}],\"histogram2d\":[{\"colorbar\":{\"outlinewidth\":0,\"ticks\":\"\"},\"colorscale\":[[0.0,\"#0d0887\"],[0.1111111111111111,\"#46039f\"],[0.2222222222222222,\"#7201a8\"],[0.3333333333333333,\"#9c179e\"],[0.4444444444444444,\"#bd3786\"],[0.5555555555555556,\"#d8576b\"],[0.6666666666666666,\"#ed7953\"],[0.7777777777777778,\"#fb9f3a\"],[0.8888888888888888,\"#fdca26\"],[1.0,\"#f0f921\"]],\"type\":\"histogram2d\"}],\"histogram\":[{\"marker\":{\"pattern\":{\"fillmode\":\"overlay\",\"size\":10,\"solidity\":0.2}},\"type\":\"histogram\"}],\"mesh3d\":[{\"colorbar\":{\"outlinewidth\":0,\"ticks\":\"\"},\"type\":\"mesh3d\"}],\"parcoords\":[{\"line\":{\"colorbar\":{\"outlinewidth\":0,\"ticks\":\"\"}},\"type\":\"parcoords\"}],\"pie\":[{\"automargin\":true,\"type\":\"pie\"}],\"scatter3d\":[{\"line\":{\"colorbar\":{\"outlinewidth\":0,\"ticks\":\"\"}},\"marker\":{\"colorbar\":{\"outlinewidth\":0,\"ticks\":\"\"}},\"type\":\"scatter3d\"}],\"scattercarpet\":[{\"marker\":{\"colorbar\":{\"outlinewidth\":0,\"ticks\":\"\"}},\"type\":\"scattercarpet\"}],\"scattergeo\":[{\"marker\":{\"colorbar\":{\"outlinewidth\":0,\"ticks\":\"\"}},\"type\":\"scattergeo\"}],\"scattergl\":[{\"marker\":{\"colorbar\":{\"outlinewidth\":0,\"ticks\":\"\"}},\"type\":\"scattergl\"}],\"scattermapbox\":[{\"marker\":{\"colorbar\":{\"outlinewidth\":0,\"ticks\":\"\"}},\"type\":\"scattermapbox\"}],\"scatterpolargl\":[{\"marker\":{\"colorbar\":{\"outlinewidth\":0,\"ticks\":\"\"}},\"type\":\"scatterpolargl\"}],\"scatterpolar\":[{\"marker\":{\"colorbar\":{\"outlinewidth\":0,\"ticks\":\"\"}},\"type\":\"scatterpolar\"}],\"scatter\":[{\"marker\":{\"colorbar\":{\"outlinewidth\":0,\"ticks\":\"\"}},\"type\":\"scatter\"}],\"scatterternary\":[{\"marker\":{\"colorbar\":{\"outlinewidth\":0,\"ticks\":\"\"}},\"type\":\"scatterternary\"}],\"surface\":[{\"colorbar\":{\"outlinewidth\":0,\"ticks\":\"\"},\"colorscale\":[[0.0,\"#0d0887\"],[0.1111111111111111,\"#46039f\"],[0.2222222222222222,\"#7201a8\"],[0.3333333333333333,\"#9c179e\"],[0.4444444444444444,\"#bd3786\"],[0.5555555555555556,\"#d8576b\"],[0.6666666666666666,\"#ed7953\"],[0.7777777777777778,\"#fb9f3a\"],[0.8888888888888888,\"#fdca26\"],[1.0,\"#f0f921\"]],\"type\":\"surface\"}],\"table\":[{\"cells\":{\"fill\":{\"color\":\"#EBF0F8\"},\"line\":{\"color\":\"white\"}},\"header\":{\"fill\":{\"color\":\"#C8D4E3\"},\"line\":{\"color\":\"white\"}},\"type\":\"table\"}]},\"layout\":{\"annotationdefaults\":{\"arrowcolor\":\"#2a3f5f\",\"arrowhead\":0,\"arrowwidth\":1},\"autotypenumbers\":\"strict\",\"coloraxis\":{\"colorbar\":{\"outlinewidth\":0,\"ticks\":\"\"}},\"colorscale\":{\"diverging\":[[0,\"#8e0152\"],[0.1,\"#c51b7d\"],[0.2,\"#de77ae\"],[0.3,\"#f1b6da\"],[0.4,\"#fde0ef\"],[0.5,\"#f7f7f7\"],[0.6,\"#e6f5d0\"],[0.7,\"#b8e186\"],[0.8,\"#7fbc41\"],[0.9,\"#4d9221\"],[1,\"#276419\"]],\"sequential\":[[0.0,\"#0d0887\"],[0.1111111111111111,\"#46039f\"],[0.2222222222222222,\"#7201a8\"],[0.3333333333333333,\"#9c179e\"],[0.4444444444444444,\"#bd3786\"],[0.5555555555555556,\"#d8576b\"],[0.6666666666666666,\"#ed7953\"],[0.7777777777777778,\"#fb9f3a\"],[0.8888888888888888,\"#fdca26\"],[1.0,\"#f0f921\"]],\"sequentialminus\":[[0.0,\"#0d0887\"],[0.1111111111111111,\"#46039f\"],[0.2222222222222222,\"#7201a8\"],[0.3333333333333333,\"#9c179e\"],[0.4444444444444444,\"#bd3786\"],[0.5555555555555556,\"#d8576b\"],[0.6666666666666666,\"#ed7953\"],[0.7777777777777778,\"#fb9f3a\"],[0.8888888888888888,\"#fdca26\"],[1.0,\"#f0f921\"]]},\"colorway\":[\"#636efa\",\"#EF553B\",\"#00cc96\",\"#ab63fa\",\"#FFA15A\",\"#19d3f3\",\"#FF6692\",\"#B6E880\",\"#FF97FF\",\"#FECB52\"],\"font\":{\"color\":\"#2a3f5f\"},\"geo\":{\"bgcolor\":\"white\",\"lakecolor\":\"white\",\"landcolor\":\"#E5ECF6\",\"showlakes\":true,\"showland\":true,\"subunitcolor\":\"white\"},\"hoverlabel\":{\"align\":\"left\"},\"hovermode\":\"closest\",\"mapbox\":{\"style\":\"light\"},\"paper_bgcolor\":\"white\",\"plot_bgcolor\":\"#E5ECF6\",\"polar\":{\"angularaxis\":{\"gridcolor\":\"white\",\"linecolor\":\"white\",\"ticks\":\"\"},\"bgcolor\":\"#E5ECF6\",\"radialaxis\":{\"gridcolor\":\"white\",\"linecolor\":\"white\",\"ticks\":\"\"}},\"scene\":{\"xaxis\":{\"backgroundcolor\":\"#E5ECF6\",\"gridcolor\":\"white\",\"gridwidth\":2,\"linecolor\":\"white\",\"showbackground\":true,\"ticks\":\"\",\"zerolinecolor\":\"white\"},\"yaxis\":{\"backgroundcolor\":\"#E5ECF6\",\"gridcolor\":\"white\",\"gridwidth\":2,\"linecolor\":\"white\",\"showbackground\":true,\"ticks\":\"\",\"zerolinecolor\":\"white\"},\"zaxis\":{\"backgroundcolor\":\"#E5ECF6\",\"gridcolor\":\"white\",\"gridwidth\":2,\"linecolor\":\"white\",\"showbackground\":true,\"ticks\":\"\",\"zerolinecolor\":\"white\"}},\"shapedefaults\":{\"line\":{\"color\":\"#2a3f5f\"}},\"ternary\":{\"aaxis\":{\"gridcolor\":\"white\",\"linecolor\":\"white\",\"ticks\":\"\"},\"baxis\":{\"gridcolor\":\"white\",\"linecolor\":\"white\",\"ticks\":\"\"},\"bgcolor\":\"#E5ECF6\",\"caxis\":{\"gridcolor\":\"white\",\"linecolor\":\"white\",\"ticks\":\"\"}},\"title\":{\"x\":0.05},\"xaxis\":{\"automargin\":true,\"gridcolor\":\"white\",\"linecolor\":\"white\",\"ticks\":\"\",\"title\":{\"standoff\":15},\"zerolinecolor\":\"white\",\"zerolinewidth\":2},\"yaxis\":{\"automargin\":true,\"gridcolor\":\"white\",\"linecolor\":\"white\",\"ticks\":\"\",\"title\":{\"standoff\":15},\"zerolinecolor\":\"white\",\"zerolinewidth\":2}}},\"title\":{\"text\":\"2015 World Happiness Score\"}},                        {\"responsive\": true}                    ).then(function(){\n",
       "                            \n",
       "var gd = document.getElementById('9b1ae8df-0fc7-4478-826b-dcec426a9b51');\n",
       "var x = new MutationObserver(function (mutations, observer) {{\n",
       "        var display = window.getComputedStyle(gd).display;\n",
       "        if (!display || display === 'none') {{\n",
       "            console.log([gd, 'removed!']);\n",
       "            Plotly.purge(gd);\n",
       "            observer.disconnect();\n",
       "        }}\n",
       "}});\n",
       "\n",
       "// Listen for the removal of the full notebook cells\n",
       "var notebookContainer = gd.closest('#notebook-container');\n",
       "if (notebookContainer) {{\n",
       "    x.observe(notebookContainer, {childList: true});\n",
       "}}\n",
       "\n",
       "// Listen for the clearing of the current output cell\n",
       "var outputEl = gd.closest('.output');\n",
       "if (outputEl) {{\n",
       "    x.observe(outputEl, {childList: true});\n",
       "}}\n",
       "\n",
       "                        })                };                });            </script>        </div>"
      ]
     },
     "metadata": {},
     "output_type": "display_data"
    }
   ],
   "source": [
    "r_2015= dict(type='choropleth',\n",
    "                locations = report2015['country'],\n",
    "                locationmode='country names',\n",
    "                colorscale= \"greens\",\n",
    "                text= report2015['country'],\n",
    "                z = report2015['happiness_score'],\n",
    "                colorbar={'title':'Happiness Score'})\n",
    "figure2015 = dict(title='2015 World Happiness Score', geo=dict(showframe=True, projection={'type':'natural earth'}))\n",
    "choromap = go.Figure(data=[r_2015], layout = figure2015)\n",
    "iplot(choromap)"
   ]
  },
  {
   "cell_type": "markdown",
   "metadata": {},
   "source": [
    "- Just by pointing at any country in a globe we can know the happiness score of that country"
   ]
  },
  {
   "cell_type": "markdown",
   "metadata": {},
   "source": [
    "We can also observe that Asia and Africa continent have the least happiness score compare to others."
   ]
  },
  {
   "cell_type": "markdown",
   "metadata": {},
   "source": [
    "### Report of 2019"
   ]
  },
  {
   "cell_type": "code",
   "execution_count": 29,
   "metadata": {},
   "outputs": [
    {
     "data": {
      "application/vnd.plotly.v1+json": {
       "config": {
        "linkText": "Export to plot.ly",
        "plotlyServerURL": "https://plot.ly",
        "showLink": false
       },
       "data": [
        {
         "colorbar": {
          "title": {
           "text": "Happiness score"
          }
         },
         "colorscale": [
          [
           0,
           "rgb(247,252,245)"
          ],
          [
           0.125,
           "rgb(229,245,224)"
          ],
          [
           0.25,
           "rgb(199,233,192)"
          ],
          [
           0.375,
           "rgb(161,217,155)"
          ],
          [
           0.5,
           "rgb(116,196,118)"
          ],
          [
           0.625,
           "rgb(65,171,93)"
          ],
          [
           0.75,
           "rgb(35,139,69)"
          ],
          [
           0.875,
           "rgb(0,109,44)"
          ],
          [
           1,
           "rgb(0,68,27)"
          ]
         ],
         "locationmode": "country names",
         "locations": [
          "Finland",
          "Denmark",
          "Norway",
          "Iceland",
          "Netherlands",
          "Switzerland",
          "Sweden",
          "New Zealand",
          "Canada",
          "Austria",
          "Australia",
          "Costa Rica",
          "Israel",
          "Luxembourg",
          "United Kingdom",
          "Ireland",
          "Germany",
          "Belgium",
          "United States",
          "Czech Republic",
          "United Arab Emirates",
          "Malta",
          "Mexico",
          "France",
          "Taiwan",
          "Chile",
          "Guatemala",
          "Saudi Arabia",
          "Qatar",
          "Spain",
          "Panama",
          "Brazil",
          "Uruguay",
          "Singapore",
          "El Salvador",
          "Italy",
          "Bahrain",
          "Slovakia",
          "Trinidad & Tobago",
          "Poland",
          "Uzbekistan",
          "Lithuania",
          "Colombia",
          "Slovenia",
          "Nicaragua",
          "Kosovo",
          "Argentina",
          "Romania",
          "Cyprus",
          "Ecuador",
          "Kuwait",
          "Thailand",
          "Latvia",
          "South Korea",
          "Estonia",
          "Jamaica",
          "Mauritius",
          "Japan",
          "Honduras",
          "Kazakhstan",
          "Bolivia",
          "Hungary",
          "Paraguay",
          "Northern Cyprus",
          "Peru",
          "Portugal",
          "Pakistan",
          "Russia",
          "Philippines",
          "Serbia",
          "Moldova",
          "Libya",
          "Montenegro",
          "Tajikistan",
          "Croatia",
          "Hong Kong",
          "Dominican Republic",
          "Bosnia and Herzegovina",
          "Turkey",
          "Malaysia",
          "Belarus",
          "Greece",
          "Mongolia",
          "North Macedonia",
          "Nigeria",
          "Kyrgyzstan",
          "Turkmenistan",
          "Algeria",
          "Morocco",
          "Azerbaijan",
          "Lebanon",
          "Indonesia",
          "China",
          "Vietnam",
          "Bhutan",
          "Cameroon",
          "Bulgaria",
          "Ghana",
          "Ivory Coast",
          "Nepal",
          "Jordan",
          "Benin",
          "Congo (Brazzaville)",
          "Gabon",
          "Laos",
          "South Africa",
          "Albania",
          "Venezuela",
          "Cambodia",
          "Palestinian Territories",
          "Senegal",
          "Somalia",
          "Namibia",
          "Niger",
          "Burkina Faso",
          "Armenia",
          "Iran",
          "Guinea",
          "Georgia",
          "Gambia",
          "Kenya",
          "Mauritania",
          "Mozambique",
          "Tunisia",
          "Bangladesh",
          "Iraq",
          "Congo (Kinshasa)",
          "Mali",
          "Sierra Leone",
          "Sri Lanka",
          "Myanmar",
          "Chad",
          "Ukraine",
          "Ethiopia",
          "Swaziland",
          "Uganda",
          "Egypt",
          "Zambia",
          "Togo",
          "India",
          "Liberia",
          "Comoros",
          "Madagascar",
          "Lesotho",
          "Burundi",
          "Zimbabwe",
          "Haiti",
          "Botswana",
          "Syria",
          "Malawi",
          "Yemen",
          "Rwanda",
          "Tanzania",
          "Afghanistan",
          "Central African Republic",
          "South Sudan"
         ],
         "text": [
          "Finland",
          "Denmark",
          "Norway",
          "Iceland",
          "Netherlands",
          "Switzerland",
          "Sweden",
          "New Zealand",
          "Canada",
          "Austria",
          "Australia",
          "Costa Rica",
          "Israel",
          "Luxembourg",
          "United Kingdom",
          "Ireland",
          "Germany",
          "Belgium",
          "United States",
          "Czech Republic",
          "United Arab Emirates",
          "Malta",
          "Mexico",
          "France",
          "Taiwan",
          "Chile",
          "Guatemala",
          "Saudi Arabia",
          "Qatar",
          "Spain",
          "Panama",
          "Brazil",
          "Uruguay",
          "Singapore",
          "El Salvador",
          "Italy",
          "Bahrain",
          "Slovakia",
          "Trinidad & Tobago",
          "Poland",
          "Uzbekistan",
          "Lithuania",
          "Colombia",
          "Slovenia",
          "Nicaragua",
          "Kosovo",
          "Argentina",
          "Romania",
          "Cyprus",
          "Ecuador",
          "Kuwait",
          "Thailand",
          "Latvia",
          "South Korea",
          "Estonia",
          "Jamaica",
          "Mauritius",
          "Japan",
          "Honduras",
          "Kazakhstan",
          "Bolivia",
          "Hungary",
          "Paraguay",
          "Northern Cyprus",
          "Peru",
          "Portugal",
          "Pakistan",
          "Russia",
          "Philippines",
          "Serbia",
          "Moldova",
          "Libya",
          "Montenegro",
          "Tajikistan",
          "Croatia",
          "Hong Kong",
          "Dominican Republic",
          "Bosnia and Herzegovina",
          "Turkey",
          "Malaysia",
          "Belarus",
          "Greece",
          "Mongolia",
          "North Macedonia",
          "Nigeria",
          "Kyrgyzstan",
          "Turkmenistan",
          "Algeria",
          "Morocco",
          "Azerbaijan",
          "Lebanon",
          "Indonesia",
          "China",
          "Vietnam",
          "Bhutan",
          "Cameroon",
          "Bulgaria",
          "Ghana",
          "Ivory Coast",
          "Nepal",
          "Jordan",
          "Benin",
          "Congo (Brazzaville)",
          "Gabon",
          "Laos",
          "South Africa",
          "Albania",
          "Venezuela",
          "Cambodia",
          "Palestinian Territories",
          "Senegal",
          "Somalia",
          "Namibia",
          "Niger",
          "Burkina Faso",
          "Armenia",
          "Iran",
          "Guinea",
          "Georgia",
          "Gambia",
          "Kenya",
          "Mauritania",
          "Mozambique",
          "Tunisia",
          "Bangladesh",
          "Iraq",
          "Congo (Kinshasa)",
          "Mali",
          "Sierra Leone",
          "Sri Lanka",
          "Myanmar",
          "Chad",
          "Ukraine",
          "Ethiopia",
          "Swaziland",
          "Uganda",
          "Egypt",
          "Zambia",
          "Togo",
          "India",
          "Liberia",
          "Comoros",
          "Madagascar",
          "Lesotho",
          "Burundi",
          "Zimbabwe",
          "Haiti",
          "Botswana",
          "Syria",
          "Malawi",
          "Yemen",
          "Rwanda",
          "Tanzania",
          "Afghanistan",
          "Central African Republic",
          "South Sudan"
         ],
         "type": "choropleth",
         "z": [
          7.769,
          7.6,
          7.554,
          7.494,
          7.488,
          7.48,
          7.343,
          7.307,
          7.278,
          7.246,
          7.228,
          7.167,
          7.139,
          7.09,
          7.054,
          7.021,
          6.985,
          6.923,
          6.892,
          6.852,
          6.825,
          6.726,
          6.595,
          6.592,
          6.446,
          6.444,
          6.436,
          6.375,
          6.374,
          6.354,
          6.321,
          6.3,
          6.293,
          6.262,
          6.253,
          6.223,
          6.199,
          6.198,
          6.192,
          6.182,
          6.174,
          6.149,
          6.125,
          6.118,
          6.105,
          6.1,
          6.086,
          6.07,
          6.046,
          6.028,
          6.021,
          6.008,
          5.94,
          5.895,
          5.893,
          5.89,
          5.888,
          5.886,
          5.86,
          5.809,
          5.779,
          5.758,
          5.743,
          5.718,
          5.697,
          5.693,
          5.653,
          5.648,
          5.631,
          5.603,
          5.529,
          5.525,
          5.523,
          5.467,
          5.432,
          5.43,
          5.425,
          5.386,
          5.373,
          5.339,
          5.323,
          5.287,
          5.285,
          5.274,
          5.265,
          5.261,
          5.247,
          5.211,
          5.208,
          5.208,
          5.197,
          5.192,
          5.191,
          5.175,
          5.082,
          5.044,
          5.011,
          4.996,
          4.944,
          4.913,
          4.906,
          4.883,
          4.812,
          4.799,
          4.796,
          4.722,
          4.719,
          4.707,
          4.7,
          4.696,
          4.681,
          4.668,
          4.639,
          4.628,
          4.587,
          4.559,
          4.548,
          4.534,
          4.519,
          4.516,
          4.509,
          4.49,
          4.466,
          4.461,
          4.456,
          4.437,
          4.418,
          4.39,
          4.374,
          4.366,
          4.36,
          4.35,
          4.332,
          4.286,
          4.212,
          4.189,
          4.166,
          4.107,
          4.085,
          4.015,
          3.975,
          3.973,
          3.933,
          3.802,
          3.775,
          3.663,
          3.597,
          3.488,
          3.462,
          3.41,
          3.38,
          3.334,
          3.231,
          3.203,
          3.083,
          2.853
         ]
        }
       ],
       "layout": {
        "geo": {
         "projection": {
          "type": "natural earth"
         },
         "showframe": true
        },
        "template": {
         "data": {
          "bar": [
           {
            "error_x": {
             "color": "#2a3f5f"
            },
            "error_y": {
             "color": "#2a3f5f"
            },
            "marker": {
             "line": {
              "color": "#E5ECF6",
              "width": 0.5
             },
             "pattern": {
              "fillmode": "overlay",
              "size": 10,
              "solidity": 0.2
             }
            },
            "type": "bar"
           }
          ],
          "barpolar": [
           {
            "marker": {
             "line": {
              "color": "#E5ECF6",
              "width": 0.5
             },
             "pattern": {
              "fillmode": "overlay",
              "size": 10,
              "solidity": 0.2
             }
            },
            "type": "barpolar"
           }
          ],
          "carpet": [
           {
            "aaxis": {
             "endlinecolor": "#2a3f5f",
             "gridcolor": "white",
             "linecolor": "white",
             "minorgridcolor": "white",
             "startlinecolor": "#2a3f5f"
            },
            "baxis": {
             "endlinecolor": "#2a3f5f",
             "gridcolor": "white",
             "linecolor": "white",
             "minorgridcolor": "white",
             "startlinecolor": "#2a3f5f"
            },
            "type": "carpet"
           }
          ],
          "choropleth": [
           {
            "colorbar": {
             "outlinewidth": 0,
             "ticks": ""
            },
            "type": "choropleth"
           }
          ],
          "contour": [
           {
            "colorbar": {
             "outlinewidth": 0,
             "ticks": ""
            },
            "colorscale": [
             [
              0,
              "#0d0887"
             ],
             [
              0.1111111111111111,
              "#46039f"
             ],
             [
              0.2222222222222222,
              "#7201a8"
             ],
             [
              0.3333333333333333,
              "#9c179e"
             ],
             [
              0.4444444444444444,
              "#bd3786"
             ],
             [
              0.5555555555555556,
              "#d8576b"
             ],
             [
              0.6666666666666666,
              "#ed7953"
             ],
             [
              0.7777777777777778,
              "#fb9f3a"
             ],
             [
              0.8888888888888888,
              "#fdca26"
             ],
             [
              1,
              "#f0f921"
             ]
            ],
            "type": "contour"
           }
          ],
          "contourcarpet": [
           {
            "colorbar": {
             "outlinewidth": 0,
             "ticks": ""
            },
            "type": "contourcarpet"
           }
          ],
          "heatmap": [
           {
            "colorbar": {
             "outlinewidth": 0,
             "ticks": ""
            },
            "colorscale": [
             [
              0,
              "#0d0887"
             ],
             [
              0.1111111111111111,
              "#46039f"
             ],
             [
              0.2222222222222222,
              "#7201a8"
             ],
             [
              0.3333333333333333,
              "#9c179e"
             ],
             [
              0.4444444444444444,
              "#bd3786"
             ],
             [
              0.5555555555555556,
              "#d8576b"
             ],
             [
              0.6666666666666666,
              "#ed7953"
             ],
             [
              0.7777777777777778,
              "#fb9f3a"
             ],
             [
              0.8888888888888888,
              "#fdca26"
             ],
             [
              1,
              "#f0f921"
             ]
            ],
            "type": "heatmap"
           }
          ],
          "heatmapgl": [
           {
            "colorbar": {
             "outlinewidth": 0,
             "ticks": ""
            },
            "colorscale": [
             [
              0,
              "#0d0887"
             ],
             [
              0.1111111111111111,
              "#46039f"
             ],
             [
              0.2222222222222222,
              "#7201a8"
             ],
             [
              0.3333333333333333,
              "#9c179e"
             ],
             [
              0.4444444444444444,
              "#bd3786"
             ],
             [
              0.5555555555555556,
              "#d8576b"
             ],
             [
              0.6666666666666666,
              "#ed7953"
             ],
             [
              0.7777777777777778,
              "#fb9f3a"
             ],
             [
              0.8888888888888888,
              "#fdca26"
             ],
             [
              1,
              "#f0f921"
             ]
            ],
            "type": "heatmapgl"
           }
          ],
          "histogram": [
           {
            "marker": {
             "pattern": {
              "fillmode": "overlay",
              "size": 10,
              "solidity": 0.2
             }
            },
            "type": "histogram"
           }
          ],
          "histogram2d": [
           {
            "colorbar": {
             "outlinewidth": 0,
             "ticks": ""
            },
            "colorscale": [
             [
              0,
              "#0d0887"
             ],
             [
              0.1111111111111111,
              "#46039f"
             ],
             [
              0.2222222222222222,
              "#7201a8"
             ],
             [
              0.3333333333333333,
              "#9c179e"
             ],
             [
              0.4444444444444444,
              "#bd3786"
             ],
             [
              0.5555555555555556,
              "#d8576b"
             ],
             [
              0.6666666666666666,
              "#ed7953"
             ],
             [
              0.7777777777777778,
              "#fb9f3a"
             ],
             [
              0.8888888888888888,
              "#fdca26"
             ],
             [
              1,
              "#f0f921"
             ]
            ],
            "type": "histogram2d"
           }
          ],
          "histogram2dcontour": [
           {
            "colorbar": {
             "outlinewidth": 0,
             "ticks": ""
            },
            "colorscale": [
             [
              0,
              "#0d0887"
             ],
             [
              0.1111111111111111,
              "#46039f"
             ],
             [
              0.2222222222222222,
              "#7201a8"
             ],
             [
              0.3333333333333333,
              "#9c179e"
             ],
             [
              0.4444444444444444,
              "#bd3786"
             ],
             [
              0.5555555555555556,
              "#d8576b"
             ],
             [
              0.6666666666666666,
              "#ed7953"
             ],
             [
              0.7777777777777778,
              "#fb9f3a"
             ],
             [
              0.8888888888888888,
              "#fdca26"
             ],
             [
              1,
              "#f0f921"
             ]
            ],
            "type": "histogram2dcontour"
           }
          ],
          "mesh3d": [
           {
            "colorbar": {
             "outlinewidth": 0,
             "ticks": ""
            },
            "type": "mesh3d"
           }
          ],
          "parcoords": [
           {
            "line": {
             "colorbar": {
              "outlinewidth": 0,
              "ticks": ""
             }
            },
            "type": "parcoords"
           }
          ],
          "pie": [
           {
            "automargin": true,
            "type": "pie"
           }
          ],
          "scatter": [
           {
            "marker": {
             "colorbar": {
              "outlinewidth": 0,
              "ticks": ""
             }
            },
            "type": "scatter"
           }
          ],
          "scatter3d": [
           {
            "line": {
             "colorbar": {
              "outlinewidth": 0,
              "ticks": ""
             }
            },
            "marker": {
             "colorbar": {
              "outlinewidth": 0,
              "ticks": ""
             }
            },
            "type": "scatter3d"
           }
          ],
          "scattercarpet": [
           {
            "marker": {
             "colorbar": {
              "outlinewidth": 0,
              "ticks": ""
             }
            },
            "type": "scattercarpet"
           }
          ],
          "scattergeo": [
           {
            "marker": {
             "colorbar": {
              "outlinewidth": 0,
              "ticks": ""
             }
            },
            "type": "scattergeo"
           }
          ],
          "scattergl": [
           {
            "marker": {
             "colorbar": {
              "outlinewidth": 0,
              "ticks": ""
             }
            },
            "type": "scattergl"
           }
          ],
          "scattermapbox": [
           {
            "marker": {
             "colorbar": {
              "outlinewidth": 0,
              "ticks": ""
             }
            },
            "type": "scattermapbox"
           }
          ],
          "scatterpolar": [
           {
            "marker": {
             "colorbar": {
              "outlinewidth": 0,
              "ticks": ""
             }
            },
            "type": "scatterpolar"
           }
          ],
          "scatterpolargl": [
           {
            "marker": {
             "colorbar": {
              "outlinewidth": 0,
              "ticks": ""
             }
            },
            "type": "scatterpolargl"
           }
          ],
          "scatterternary": [
           {
            "marker": {
             "colorbar": {
              "outlinewidth": 0,
              "ticks": ""
             }
            },
            "type": "scatterternary"
           }
          ],
          "surface": [
           {
            "colorbar": {
             "outlinewidth": 0,
             "ticks": ""
            },
            "colorscale": [
             [
              0,
              "#0d0887"
             ],
             [
              0.1111111111111111,
              "#46039f"
             ],
             [
              0.2222222222222222,
              "#7201a8"
             ],
             [
              0.3333333333333333,
              "#9c179e"
             ],
             [
              0.4444444444444444,
              "#bd3786"
             ],
             [
              0.5555555555555556,
              "#d8576b"
             ],
             [
              0.6666666666666666,
              "#ed7953"
             ],
             [
              0.7777777777777778,
              "#fb9f3a"
             ],
             [
              0.8888888888888888,
              "#fdca26"
             ],
             [
              1,
              "#f0f921"
             ]
            ],
            "type": "surface"
           }
          ],
          "table": [
           {
            "cells": {
             "fill": {
              "color": "#EBF0F8"
             },
             "line": {
              "color": "white"
             }
            },
            "header": {
             "fill": {
              "color": "#C8D4E3"
             },
             "line": {
              "color": "white"
             }
            },
            "type": "table"
           }
          ]
         },
         "layout": {
          "annotationdefaults": {
           "arrowcolor": "#2a3f5f",
           "arrowhead": 0,
           "arrowwidth": 1
          },
          "autotypenumbers": "strict",
          "coloraxis": {
           "colorbar": {
            "outlinewidth": 0,
            "ticks": ""
           }
          },
          "colorscale": {
           "diverging": [
            [
             0,
             "#8e0152"
            ],
            [
             0.1,
             "#c51b7d"
            ],
            [
             0.2,
             "#de77ae"
            ],
            [
             0.3,
             "#f1b6da"
            ],
            [
             0.4,
             "#fde0ef"
            ],
            [
             0.5,
             "#f7f7f7"
            ],
            [
             0.6,
             "#e6f5d0"
            ],
            [
             0.7,
             "#b8e186"
            ],
            [
             0.8,
             "#7fbc41"
            ],
            [
             0.9,
             "#4d9221"
            ],
            [
             1,
             "#276419"
            ]
           ],
           "sequential": [
            [
             0,
             "#0d0887"
            ],
            [
             0.1111111111111111,
             "#46039f"
            ],
            [
             0.2222222222222222,
             "#7201a8"
            ],
            [
             0.3333333333333333,
             "#9c179e"
            ],
            [
             0.4444444444444444,
             "#bd3786"
            ],
            [
             0.5555555555555556,
             "#d8576b"
            ],
            [
             0.6666666666666666,
             "#ed7953"
            ],
            [
             0.7777777777777778,
             "#fb9f3a"
            ],
            [
             0.8888888888888888,
             "#fdca26"
            ],
            [
             1,
             "#f0f921"
            ]
           ],
           "sequentialminus": [
            [
             0,
             "#0d0887"
            ],
            [
             0.1111111111111111,
             "#46039f"
            ],
            [
             0.2222222222222222,
             "#7201a8"
            ],
            [
             0.3333333333333333,
             "#9c179e"
            ],
            [
             0.4444444444444444,
             "#bd3786"
            ],
            [
             0.5555555555555556,
             "#d8576b"
            ],
            [
             0.6666666666666666,
             "#ed7953"
            ],
            [
             0.7777777777777778,
             "#fb9f3a"
            ],
            [
             0.8888888888888888,
             "#fdca26"
            ],
            [
             1,
             "#f0f921"
            ]
           ]
          },
          "colorway": [
           "#636efa",
           "#EF553B",
           "#00cc96",
           "#ab63fa",
           "#FFA15A",
           "#19d3f3",
           "#FF6692",
           "#B6E880",
           "#FF97FF",
           "#FECB52"
          ],
          "font": {
           "color": "#2a3f5f"
          },
          "geo": {
           "bgcolor": "white",
           "lakecolor": "white",
           "landcolor": "#E5ECF6",
           "showlakes": true,
           "showland": true,
           "subunitcolor": "white"
          },
          "hoverlabel": {
           "align": "left"
          },
          "hovermode": "closest",
          "mapbox": {
           "style": "light"
          },
          "paper_bgcolor": "white",
          "plot_bgcolor": "#E5ECF6",
          "polar": {
           "angularaxis": {
            "gridcolor": "white",
            "linecolor": "white",
            "ticks": ""
           },
           "bgcolor": "#E5ECF6",
           "radialaxis": {
            "gridcolor": "white",
            "linecolor": "white",
            "ticks": ""
           }
          },
          "scene": {
           "xaxis": {
            "backgroundcolor": "#E5ECF6",
            "gridcolor": "white",
            "gridwidth": 2,
            "linecolor": "white",
            "showbackground": true,
            "ticks": "",
            "zerolinecolor": "white"
           },
           "yaxis": {
            "backgroundcolor": "#E5ECF6",
            "gridcolor": "white",
            "gridwidth": 2,
            "linecolor": "white",
            "showbackground": true,
            "ticks": "",
            "zerolinecolor": "white"
           },
           "zaxis": {
            "backgroundcolor": "#E5ECF6",
            "gridcolor": "white",
            "gridwidth": 2,
            "linecolor": "white",
            "showbackground": true,
            "ticks": "",
            "zerolinecolor": "white"
           }
          },
          "shapedefaults": {
           "line": {
            "color": "#2a3f5f"
           }
          },
          "ternary": {
           "aaxis": {
            "gridcolor": "white",
            "linecolor": "white",
            "ticks": ""
           },
           "baxis": {
            "gridcolor": "white",
            "linecolor": "white",
            "ticks": ""
           },
           "bgcolor": "#E5ECF6",
           "caxis": {
            "gridcolor": "white",
            "linecolor": "white",
            "ticks": ""
           }
          },
          "title": {
           "x": 0.05
          },
          "xaxis": {
           "automargin": true,
           "gridcolor": "white",
           "linecolor": "white",
           "ticks": "",
           "title": {
            "standoff": 15
           },
           "zerolinecolor": "white",
           "zerolinewidth": 2
          },
          "yaxis": {
           "automargin": true,
           "gridcolor": "white",
           "linecolor": "white",
           "ticks": "",
           "title": {
            "standoff": 15
           },
           "zerolinecolor": "white",
           "zerolinewidth": 2
          }
         }
        },
        "title": {
         "text": "2019 World Happiness Score"
        }
       }
      },
      "text/html": [
       "<div>                            <div id=\"7c31d4b5-1164-4252-ac57-5654e57fc790\" class=\"plotly-graph-div\" style=\"height:525px; width:100%;\"></div>            <script type=\"text/javascript\">                require([\"plotly\"], function(Plotly) {                    window.PLOTLYENV=window.PLOTLYENV || {};                                    if (document.getElementById(\"7c31d4b5-1164-4252-ac57-5654e57fc790\")) {                    Plotly.newPlot(                        \"7c31d4b5-1164-4252-ac57-5654e57fc790\",                        [{\"colorbar\":{\"title\":{\"text\":\"Happiness score\"}},\"colorscale\":[[0.0,\"rgb(247,252,245)\"],[0.125,\"rgb(229,245,224)\"],[0.25,\"rgb(199,233,192)\"],[0.375,\"rgb(161,217,155)\"],[0.5,\"rgb(116,196,118)\"],[0.625,\"rgb(65,171,93)\"],[0.75,\"rgb(35,139,69)\"],[0.875,\"rgb(0,109,44)\"],[1.0,\"rgb(0,68,27)\"]],\"locationmode\":\"country names\",\"locations\":[\"Finland\",\"Denmark\",\"Norway\",\"Iceland\",\"Netherlands\",\"Switzerland\",\"Sweden\",\"New Zealand\",\"Canada\",\"Austria\",\"Australia\",\"Costa Rica\",\"Israel\",\"Luxembourg\",\"United Kingdom\",\"Ireland\",\"Germany\",\"Belgium\",\"United States\",\"Czech Republic\",\"United Arab Emirates\",\"Malta\",\"Mexico\",\"France\",\"Taiwan\",\"Chile\",\"Guatemala\",\"Saudi Arabia\",\"Qatar\",\"Spain\",\"Panama\",\"Brazil\",\"Uruguay\",\"Singapore\",\"El Salvador\",\"Italy\",\"Bahrain\",\"Slovakia\",\"Trinidad & Tobago\",\"Poland\",\"Uzbekistan\",\"Lithuania\",\"Colombia\",\"Slovenia\",\"Nicaragua\",\"Kosovo\",\"Argentina\",\"Romania\",\"Cyprus\",\"Ecuador\",\"Kuwait\",\"Thailand\",\"Latvia\",\"South Korea\",\"Estonia\",\"Jamaica\",\"Mauritius\",\"Japan\",\"Honduras\",\"Kazakhstan\",\"Bolivia\",\"Hungary\",\"Paraguay\",\"Northern Cyprus\",\"Peru\",\"Portugal\",\"Pakistan\",\"Russia\",\"Philippines\",\"Serbia\",\"Moldova\",\"Libya\",\"Montenegro\",\"Tajikistan\",\"Croatia\",\"Hong Kong\",\"Dominican Republic\",\"Bosnia and Herzegovina\",\"Turkey\",\"Malaysia\",\"Belarus\",\"Greece\",\"Mongolia\",\"North Macedonia\",\"Nigeria\",\"Kyrgyzstan\",\"Turkmenistan\",\"Algeria\",\"Morocco\",\"Azerbaijan\",\"Lebanon\",\"Indonesia\",\"China\",\"Vietnam\",\"Bhutan\",\"Cameroon\",\"Bulgaria\",\"Ghana\",\"Ivory Coast\",\"Nepal\",\"Jordan\",\"Benin\",\"Congo (Brazzaville)\",\"Gabon\",\"Laos\",\"South Africa\",\"Albania\",\"Venezuela\",\"Cambodia\",\"Palestinian Territories\",\"Senegal\",\"Somalia\",\"Namibia\",\"Niger\",\"Burkina Faso\",\"Armenia\",\"Iran\",\"Guinea\",\"Georgia\",\"Gambia\",\"Kenya\",\"Mauritania\",\"Mozambique\",\"Tunisia\",\"Bangladesh\",\"Iraq\",\"Congo (Kinshasa)\",\"Mali\",\"Sierra Leone\",\"Sri Lanka\",\"Myanmar\",\"Chad\",\"Ukraine\",\"Ethiopia\",\"Swaziland\",\"Uganda\",\"Egypt\",\"Zambia\",\"Togo\",\"India\",\"Liberia\",\"Comoros\",\"Madagascar\",\"Lesotho\",\"Burundi\",\"Zimbabwe\",\"Haiti\",\"Botswana\",\"Syria\",\"Malawi\",\"Yemen\",\"Rwanda\",\"Tanzania\",\"Afghanistan\",\"Central African Republic\",\"South Sudan\"],\"text\":[\"Finland\",\"Denmark\",\"Norway\",\"Iceland\",\"Netherlands\",\"Switzerland\",\"Sweden\",\"New Zealand\",\"Canada\",\"Austria\",\"Australia\",\"Costa Rica\",\"Israel\",\"Luxembourg\",\"United Kingdom\",\"Ireland\",\"Germany\",\"Belgium\",\"United States\",\"Czech Republic\",\"United Arab Emirates\",\"Malta\",\"Mexico\",\"France\",\"Taiwan\",\"Chile\",\"Guatemala\",\"Saudi Arabia\",\"Qatar\",\"Spain\",\"Panama\",\"Brazil\",\"Uruguay\",\"Singapore\",\"El Salvador\",\"Italy\",\"Bahrain\",\"Slovakia\",\"Trinidad & Tobago\",\"Poland\",\"Uzbekistan\",\"Lithuania\",\"Colombia\",\"Slovenia\",\"Nicaragua\",\"Kosovo\",\"Argentina\",\"Romania\",\"Cyprus\",\"Ecuador\",\"Kuwait\",\"Thailand\",\"Latvia\",\"South Korea\",\"Estonia\",\"Jamaica\",\"Mauritius\",\"Japan\",\"Honduras\",\"Kazakhstan\",\"Bolivia\",\"Hungary\",\"Paraguay\",\"Northern Cyprus\",\"Peru\",\"Portugal\",\"Pakistan\",\"Russia\",\"Philippines\",\"Serbia\",\"Moldova\",\"Libya\",\"Montenegro\",\"Tajikistan\",\"Croatia\",\"Hong Kong\",\"Dominican Republic\",\"Bosnia and Herzegovina\",\"Turkey\",\"Malaysia\",\"Belarus\",\"Greece\",\"Mongolia\",\"North Macedonia\",\"Nigeria\",\"Kyrgyzstan\",\"Turkmenistan\",\"Algeria\",\"Morocco\",\"Azerbaijan\",\"Lebanon\",\"Indonesia\",\"China\",\"Vietnam\",\"Bhutan\",\"Cameroon\",\"Bulgaria\",\"Ghana\",\"Ivory Coast\",\"Nepal\",\"Jordan\",\"Benin\",\"Congo (Brazzaville)\",\"Gabon\",\"Laos\",\"South Africa\",\"Albania\",\"Venezuela\",\"Cambodia\",\"Palestinian Territories\",\"Senegal\",\"Somalia\",\"Namibia\",\"Niger\",\"Burkina Faso\",\"Armenia\",\"Iran\",\"Guinea\",\"Georgia\",\"Gambia\",\"Kenya\",\"Mauritania\",\"Mozambique\",\"Tunisia\",\"Bangladesh\",\"Iraq\",\"Congo (Kinshasa)\",\"Mali\",\"Sierra Leone\",\"Sri Lanka\",\"Myanmar\",\"Chad\",\"Ukraine\",\"Ethiopia\",\"Swaziland\",\"Uganda\",\"Egypt\",\"Zambia\",\"Togo\",\"India\",\"Liberia\",\"Comoros\",\"Madagascar\",\"Lesotho\",\"Burundi\",\"Zimbabwe\",\"Haiti\",\"Botswana\",\"Syria\",\"Malawi\",\"Yemen\",\"Rwanda\",\"Tanzania\",\"Afghanistan\",\"Central African Republic\",\"South Sudan\"],\"z\":[7.769,7.6,7.554,7.494,7.488,7.48,7.343,7.307,7.278,7.246,7.228,7.167,7.139,7.09,7.054,7.021,6.985,6.923,6.892,6.852,6.825,6.726,6.595,6.592,6.446,6.444,6.436,6.375,6.374,6.354,6.321,6.3,6.293,6.262,6.253,6.223,6.199,6.198,6.192,6.182,6.174,6.149,6.125,6.118,6.105,6.1,6.086,6.07,6.046,6.028,6.021,6.008,5.94,5.895,5.893,5.89,5.888,5.886,5.86,5.809,5.779,5.758,5.743,5.718,5.697,5.693,5.653,5.648,5.631,5.603,5.529,5.525,5.523,5.467,5.432,5.43,5.425,5.386,5.373,5.339,5.323,5.287,5.285,5.274,5.265,5.261,5.247,5.211,5.208,5.208,5.197,5.192,5.191,5.175,5.082,5.044,5.011,4.996,4.944,4.913,4.906,4.883,4.812,4.799,4.796,4.722,4.719,4.707,4.7,4.696,4.681,4.668,4.639,4.628,4.587,4.559,4.548,4.534,4.519,4.516,4.509,4.49,4.466,4.461,4.456,4.437,4.418,4.39,4.374,4.366,4.36,4.35,4.332,4.286,4.212,4.189,4.166,4.107,4.085,4.015,3.975,3.973,3.933,3.802,3.775,3.663,3.597,3.488,3.462,3.41,3.38,3.334,3.231,3.203,3.083,2.853],\"type\":\"choropleth\"}],                        {\"geo\":{\"projection\":{\"type\":\"natural earth\"},\"showframe\":true},\"template\":{\"data\":{\"barpolar\":[{\"marker\":{\"line\":{\"color\":\"#E5ECF6\",\"width\":0.5},\"pattern\":{\"fillmode\":\"overlay\",\"size\":10,\"solidity\":0.2}},\"type\":\"barpolar\"}],\"bar\":[{\"error_x\":{\"color\":\"#2a3f5f\"},\"error_y\":{\"color\":\"#2a3f5f\"},\"marker\":{\"line\":{\"color\":\"#E5ECF6\",\"width\":0.5},\"pattern\":{\"fillmode\":\"overlay\",\"size\":10,\"solidity\":0.2}},\"type\":\"bar\"}],\"carpet\":[{\"aaxis\":{\"endlinecolor\":\"#2a3f5f\",\"gridcolor\":\"white\",\"linecolor\":\"white\",\"minorgridcolor\":\"white\",\"startlinecolor\":\"#2a3f5f\"},\"baxis\":{\"endlinecolor\":\"#2a3f5f\",\"gridcolor\":\"white\",\"linecolor\":\"white\",\"minorgridcolor\":\"white\",\"startlinecolor\":\"#2a3f5f\"},\"type\":\"carpet\"}],\"choropleth\":[{\"colorbar\":{\"outlinewidth\":0,\"ticks\":\"\"},\"type\":\"choropleth\"}],\"contourcarpet\":[{\"colorbar\":{\"outlinewidth\":0,\"ticks\":\"\"},\"type\":\"contourcarpet\"}],\"contour\":[{\"colorbar\":{\"outlinewidth\":0,\"ticks\":\"\"},\"colorscale\":[[0.0,\"#0d0887\"],[0.1111111111111111,\"#46039f\"],[0.2222222222222222,\"#7201a8\"],[0.3333333333333333,\"#9c179e\"],[0.4444444444444444,\"#bd3786\"],[0.5555555555555556,\"#d8576b\"],[0.6666666666666666,\"#ed7953\"],[0.7777777777777778,\"#fb9f3a\"],[0.8888888888888888,\"#fdca26\"],[1.0,\"#f0f921\"]],\"type\":\"contour\"}],\"heatmapgl\":[{\"colorbar\":{\"outlinewidth\":0,\"ticks\":\"\"},\"colorscale\":[[0.0,\"#0d0887\"],[0.1111111111111111,\"#46039f\"],[0.2222222222222222,\"#7201a8\"],[0.3333333333333333,\"#9c179e\"],[0.4444444444444444,\"#bd3786\"],[0.5555555555555556,\"#d8576b\"],[0.6666666666666666,\"#ed7953\"],[0.7777777777777778,\"#fb9f3a\"],[0.8888888888888888,\"#fdca26\"],[1.0,\"#f0f921\"]],\"type\":\"heatmapgl\"}],\"heatmap\":[{\"colorbar\":{\"outlinewidth\":0,\"ticks\":\"\"},\"colorscale\":[[0.0,\"#0d0887\"],[0.1111111111111111,\"#46039f\"],[0.2222222222222222,\"#7201a8\"],[0.3333333333333333,\"#9c179e\"],[0.4444444444444444,\"#bd3786\"],[0.5555555555555556,\"#d8576b\"],[0.6666666666666666,\"#ed7953\"],[0.7777777777777778,\"#fb9f3a\"],[0.8888888888888888,\"#fdca26\"],[1.0,\"#f0f921\"]],\"type\":\"heatmap\"}],\"histogram2dcontour\":[{\"colorbar\":{\"outlinewidth\":0,\"ticks\":\"\"},\"colorscale\":[[0.0,\"#0d0887\"],[0.1111111111111111,\"#46039f\"],[0.2222222222222222,\"#7201a8\"],[0.3333333333333333,\"#9c179e\"],[0.4444444444444444,\"#bd3786\"],[0.5555555555555556,\"#d8576b\"],[0.6666666666666666,\"#ed7953\"],[0.7777777777777778,\"#fb9f3a\"],[0.8888888888888888,\"#fdca26\"],[1.0,\"#f0f921\"]],\"type\":\"histogram2dcontour\"}],\"histogram2d\":[{\"colorbar\":{\"outlinewidth\":0,\"ticks\":\"\"},\"colorscale\":[[0.0,\"#0d0887\"],[0.1111111111111111,\"#46039f\"],[0.2222222222222222,\"#7201a8\"],[0.3333333333333333,\"#9c179e\"],[0.4444444444444444,\"#bd3786\"],[0.5555555555555556,\"#d8576b\"],[0.6666666666666666,\"#ed7953\"],[0.7777777777777778,\"#fb9f3a\"],[0.8888888888888888,\"#fdca26\"],[1.0,\"#f0f921\"]],\"type\":\"histogram2d\"}],\"histogram\":[{\"marker\":{\"pattern\":{\"fillmode\":\"overlay\",\"size\":10,\"solidity\":0.2}},\"type\":\"histogram\"}],\"mesh3d\":[{\"colorbar\":{\"outlinewidth\":0,\"ticks\":\"\"},\"type\":\"mesh3d\"}],\"parcoords\":[{\"line\":{\"colorbar\":{\"outlinewidth\":0,\"ticks\":\"\"}},\"type\":\"parcoords\"}],\"pie\":[{\"automargin\":true,\"type\":\"pie\"}],\"scatter3d\":[{\"line\":{\"colorbar\":{\"outlinewidth\":0,\"ticks\":\"\"}},\"marker\":{\"colorbar\":{\"outlinewidth\":0,\"ticks\":\"\"}},\"type\":\"scatter3d\"}],\"scattercarpet\":[{\"marker\":{\"colorbar\":{\"outlinewidth\":0,\"ticks\":\"\"}},\"type\":\"scattercarpet\"}],\"scattergeo\":[{\"marker\":{\"colorbar\":{\"outlinewidth\":0,\"ticks\":\"\"}},\"type\":\"scattergeo\"}],\"scattergl\":[{\"marker\":{\"colorbar\":{\"outlinewidth\":0,\"ticks\":\"\"}},\"type\":\"scattergl\"}],\"scattermapbox\":[{\"marker\":{\"colorbar\":{\"outlinewidth\":0,\"ticks\":\"\"}},\"type\":\"scattermapbox\"}],\"scatterpolargl\":[{\"marker\":{\"colorbar\":{\"outlinewidth\":0,\"ticks\":\"\"}},\"type\":\"scatterpolargl\"}],\"scatterpolar\":[{\"marker\":{\"colorbar\":{\"outlinewidth\":0,\"ticks\":\"\"}},\"type\":\"scatterpolar\"}],\"scatter\":[{\"marker\":{\"colorbar\":{\"outlinewidth\":0,\"ticks\":\"\"}},\"type\":\"scatter\"}],\"scatterternary\":[{\"marker\":{\"colorbar\":{\"outlinewidth\":0,\"ticks\":\"\"}},\"type\":\"scatterternary\"}],\"surface\":[{\"colorbar\":{\"outlinewidth\":0,\"ticks\":\"\"},\"colorscale\":[[0.0,\"#0d0887\"],[0.1111111111111111,\"#46039f\"],[0.2222222222222222,\"#7201a8\"],[0.3333333333333333,\"#9c179e\"],[0.4444444444444444,\"#bd3786\"],[0.5555555555555556,\"#d8576b\"],[0.6666666666666666,\"#ed7953\"],[0.7777777777777778,\"#fb9f3a\"],[0.8888888888888888,\"#fdca26\"],[1.0,\"#f0f921\"]],\"type\":\"surface\"}],\"table\":[{\"cells\":{\"fill\":{\"color\":\"#EBF0F8\"},\"line\":{\"color\":\"white\"}},\"header\":{\"fill\":{\"color\":\"#C8D4E3\"},\"line\":{\"color\":\"white\"}},\"type\":\"table\"}]},\"layout\":{\"annotationdefaults\":{\"arrowcolor\":\"#2a3f5f\",\"arrowhead\":0,\"arrowwidth\":1},\"autotypenumbers\":\"strict\",\"coloraxis\":{\"colorbar\":{\"outlinewidth\":0,\"ticks\":\"\"}},\"colorscale\":{\"diverging\":[[0,\"#8e0152\"],[0.1,\"#c51b7d\"],[0.2,\"#de77ae\"],[0.3,\"#f1b6da\"],[0.4,\"#fde0ef\"],[0.5,\"#f7f7f7\"],[0.6,\"#e6f5d0\"],[0.7,\"#b8e186\"],[0.8,\"#7fbc41\"],[0.9,\"#4d9221\"],[1,\"#276419\"]],\"sequential\":[[0.0,\"#0d0887\"],[0.1111111111111111,\"#46039f\"],[0.2222222222222222,\"#7201a8\"],[0.3333333333333333,\"#9c179e\"],[0.4444444444444444,\"#bd3786\"],[0.5555555555555556,\"#d8576b\"],[0.6666666666666666,\"#ed7953\"],[0.7777777777777778,\"#fb9f3a\"],[0.8888888888888888,\"#fdca26\"],[1.0,\"#f0f921\"]],\"sequentialminus\":[[0.0,\"#0d0887\"],[0.1111111111111111,\"#46039f\"],[0.2222222222222222,\"#7201a8\"],[0.3333333333333333,\"#9c179e\"],[0.4444444444444444,\"#bd3786\"],[0.5555555555555556,\"#d8576b\"],[0.6666666666666666,\"#ed7953\"],[0.7777777777777778,\"#fb9f3a\"],[0.8888888888888888,\"#fdca26\"],[1.0,\"#f0f921\"]]},\"colorway\":[\"#636efa\",\"#EF553B\",\"#00cc96\",\"#ab63fa\",\"#FFA15A\",\"#19d3f3\",\"#FF6692\",\"#B6E880\",\"#FF97FF\",\"#FECB52\"],\"font\":{\"color\":\"#2a3f5f\"},\"geo\":{\"bgcolor\":\"white\",\"lakecolor\":\"white\",\"landcolor\":\"#E5ECF6\",\"showlakes\":true,\"showland\":true,\"subunitcolor\":\"white\"},\"hoverlabel\":{\"align\":\"left\"},\"hovermode\":\"closest\",\"mapbox\":{\"style\":\"light\"},\"paper_bgcolor\":\"white\",\"plot_bgcolor\":\"#E5ECF6\",\"polar\":{\"angularaxis\":{\"gridcolor\":\"white\",\"linecolor\":\"white\",\"ticks\":\"\"},\"bgcolor\":\"#E5ECF6\",\"radialaxis\":{\"gridcolor\":\"white\",\"linecolor\":\"white\",\"ticks\":\"\"}},\"scene\":{\"xaxis\":{\"backgroundcolor\":\"#E5ECF6\",\"gridcolor\":\"white\",\"gridwidth\":2,\"linecolor\":\"white\",\"showbackground\":true,\"ticks\":\"\",\"zerolinecolor\":\"white\"},\"yaxis\":{\"backgroundcolor\":\"#E5ECF6\",\"gridcolor\":\"white\",\"gridwidth\":2,\"linecolor\":\"white\",\"showbackground\":true,\"ticks\":\"\",\"zerolinecolor\":\"white\"},\"zaxis\":{\"backgroundcolor\":\"#E5ECF6\",\"gridcolor\":\"white\",\"gridwidth\":2,\"linecolor\":\"white\",\"showbackground\":true,\"ticks\":\"\",\"zerolinecolor\":\"white\"}},\"shapedefaults\":{\"line\":{\"color\":\"#2a3f5f\"}},\"ternary\":{\"aaxis\":{\"gridcolor\":\"white\",\"linecolor\":\"white\",\"ticks\":\"\"},\"baxis\":{\"gridcolor\":\"white\",\"linecolor\":\"white\",\"ticks\":\"\"},\"bgcolor\":\"#E5ECF6\",\"caxis\":{\"gridcolor\":\"white\",\"linecolor\":\"white\",\"ticks\":\"\"}},\"title\":{\"x\":0.05},\"xaxis\":{\"automargin\":true,\"gridcolor\":\"white\",\"linecolor\":\"white\",\"ticks\":\"\",\"title\":{\"standoff\":15},\"zerolinecolor\":\"white\",\"zerolinewidth\":2},\"yaxis\":{\"automargin\":true,\"gridcolor\":\"white\",\"linecolor\":\"white\",\"ticks\":\"\",\"title\":{\"standoff\":15},\"zerolinecolor\":\"white\",\"zerolinewidth\":2}}},\"title\":{\"text\":\"2019 World Happiness Score\"}},                        {\"responsive\": true}                    ).then(function(){\n",
       "                            \n",
       "var gd = document.getElementById('7c31d4b5-1164-4252-ac57-5654e57fc790');\n",
       "var x = new MutationObserver(function (mutations, observer) {{\n",
       "        var display = window.getComputedStyle(gd).display;\n",
       "        if (!display || display === 'none') {{\n",
       "            console.log([gd, 'removed!']);\n",
       "            Plotly.purge(gd);\n",
       "            observer.disconnect();\n",
       "        }}\n",
       "}});\n",
       "\n",
       "// Listen for the removal of the full notebook cells\n",
       "var notebookContainer = gd.closest('#notebook-container');\n",
       "if (notebookContainer) {{\n",
       "    x.observe(notebookContainer, {childList: true});\n",
       "}}\n",
       "\n",
       "// Listen for the clearing of the current output cell\n",
       "var outputEl = gd.closest('.output');\n",
       "if (outputEl) {{\n",
       "    x.observe(outputEl, {childList: true});\n",
       "}}\n",
       "\n",
       "                        })                };                });            </script>        </div>"
      ]
     },
     "metadata": {},
     "output_type": "display_data"
    }
   ],
   "source": [
    "r_2019 = dict(type='choropleth',\n",
    "             locations = report2019['country_or_region'],\n",
    "             locationmode='country names',\n",
    "             colorscale = \"greens\",\n",
    "             text = report2019['country_or_region'],\n",
    "             z = report2019['score'],\n",
    "             colorbar = {'title':'Happiness score'})\n",
    "figure2019 = dict(title='2019 World Happiness Score', geo= dict(showframe=True, projection={'type':'natural earth'}))\n",
    "choromap = go.Figure(data=[r_2019], layout=figure2019)\n",
    "iplot(choromap)"
   ]
  },
  {
   "cell_type": "markdown",
   "metadata": {},
   "source": [
    "### Correlation Matrix 2015 "
   ]
  },
  {
   "cell_type": "markdown",
   "metadata": {},
   "source": [
    "- From now on, we are just going to take dataset of 2015"
   ]
  },
  {
   "cell_type": "code",
   "execution_count": 30,
   "metadata": {},
   "outputs": [
    {
     "data": {
      "image/png": "[encoded data removed]",
      "text/plain": [
       "<Figure size 720x720 with 2 Axes>"
      ]
     },
     "metadata": {
      "needs_background": "light"
     },
     "output_type": "display_data"
    }
   ],
   "source": [
    "plt.figure(figsize=(10,10))\n",
    "sns.heatmap(data=report2015[['happiness_score','economy_gdp_per_capita','family','health_life_expectancy','freedom','trust_government_corruption','generosity']].corr(),annot=True, cmap=\"YlGnBu\")\n",
    "plt.show()"
   ]
  },
  {
   "cell_type": "markdown",
   "metadata": {},
   "source": [
    "- Highest correlation with happiness score is : economy_gdp_per_capita(0.78) > family(0.65) >\thealth_life_expectancy(0.53).\n",
    "- But we can observe that economy_gdp_per_capita and health_life_expectancy has highest correlation i.e. 0.82.\n",
    "- From above correlation matrix, we can assume that happiness is highly dependent on gdp, family and health."
   ]
  },
  {
   "cell_type": "markdown",
   "metadata": {},
   "source": [
    "Now we will find the individual relationship through scatter plot"
   ]
  },
  {
   "cell_type": "markdown",
   "metadata": {},
   "source": [
    "## Scatter plot distribution "
   ]
  },
  {
   "cell_type": "markdown",
   "metadata": {},
   "source": [
    "### economy_gdp_per_capita, family, health_life_expectancy  vs happiness score"
   ]
  },
  {
   "cell_type": "code",
   "execution_count": 31,
   "metadata": {},
   "outputs": [
    {
     "data": {
      "image/png": "[encoded data removed]",
      "text/plain": [
       "<Figure size 720x432 with 1 Axes>"
      ]
     },
     "metadata": {
      "needs_background": "light"
     },
     "output_type": "display_data"
    },
    {
     "data": {
      "image/png": "[encoded data removed]",
      "text/plain": [
       "<Figure size 720x432 with 1 Axes>"
      ]
     },
     "metadata": {
      "needs_background": "light"
     },
     "output_type": "display_data"
    },
    {
     "data": {
      "image/png": "[encoded data removed]",
      "text/plain": [
       "<Figure size 720x432 with 1 Axes>"
      ]
     },
     "metadata": {
      "needs_background": "light"
     },
     "output_type": "display_data"
    }
   ],
   "source": [
    "figure  = report2015.plot.scatter(x = 'economy_gdp_per_capita', y= 'happiness_score', c='DarkBlue')\n",
    "figure  = report2015.plot.scatter(x = 'family', y= 'happiness_score', c='Green')\n",
    "figure  = report2015.plot.scatter(x = 'health_life_expectancy', y= 'happiness_score', c='Red')"
   ]
  },
  {
   "cell_type": "markdown",
   "metadata": {},
   "source": [
    "- As we can see that how gdp is forming linear line with happiness score followed by family and health_life_expectancy."
   ]
  },
  {
   "cell_type": "markdown",
   "metadata": {},
   "source": [
    "### economy_gdp_per_capita vs health_life_expectancy"
   ]
  },
  {
   "cell_type": "code",
   "execution_count": 32,
   "metadata": {},
   "outputs": [
    {
     "data": {
      "image/png": "[encoded data removed]",
      "text/plain": [
       "<Figure size 720x432 with 1 Axes>"
      ]
     },
     "metadata": {
      "needs_background": "light"
     },
     "output_type": "display_data"
    }
   ],
   "source": [
    "figure  = report2015.plot.scatter(x = 'health_life_expectancy', y= 'economy_gdp_per_capita', c='Orange')"
   ]
  },
  {
   "cell_type": "markdown",
   "metadata": {},
   "source": [
    "- economy_gdp_per_capita vs health_life_expectancy has correlation of 0.84.\n",
    "- More perfect the linear line is more the correlation is formed by them (i.e. highly correlated)"
   ]
  },
  {
   "cell_type": "markdown",
   "metadata": {},
   "source": [
    "### generosity vs economy_gdp_per_capita"
   ]
  },
  {
   "cell_type": "code",
   "execution_count": 33,
   "metadata": {},
   "outputs": [
    {
     "data": {
      "image/png": "[encoded data removed]",
      "text/plain": [
       "<Figure size 720x432 with 1 Axes>"
      ]
     },
     "metadata": {
      "needs_background": "light"
     },
     "output_type": "display_data"
    }
   ],
   "source": [
    "figure  = report2015.plot.scatter(x = 'generosity', y= 'economy_gdp_per_capita', c='Purple')"
   ]
  },
  {
   "cell_type": "markdown",
   "metadata": {},
   "source": [
    "- As we can see there is no proper linear line is formed between these two, so we can say that they are weakly correlated\n",
    "- The least correlated columns are generosity vs economy_gdp_per_capita"
   ]
  },
  {
   "cell_type": "markdown",
   "metadata": {},
   "source": [
    "Let us save and upload our work to Jovian before continuing"
   ]
  },
  {
   "cell_type": "code",
   "execution_count": 34,
   "metadata": {},
   "outputs": [],
   "source": [
    "import jovian"
   ]
  },
  {
   "cell_type": "code",
   "execution_count": 35,
   "metadata": {},
   "outputs": [
    {
     "data": {
      "application/javascript": [
       "window.require && require([\"base/js/namespace\"],function(Jupyter){Jupyter.notebook.save_checkpoint()})"
      ],
      "text/plain": [
       "<IPython.core.display.Javascript object>"
      ]
     },
     "metadata": {},
     "output_type": "display_data"
    },
    {
     "name": "stdout",
     "output_type": "stream",
     "text": [
      "[jovian] Updating notebook \"dhruv171717/world-happiness-report\" on https://jovian.ai\u001b[0m\n",
      "[jovian] Committed successfully! https://jovian.ai/dhruv171717/world-happiness-report\u001b[0m\n"
     ]
    },
    {
     "data": {
      "text/plain": [
       "'https://jovian.ai/dhruv171717/world-happiness-report'"
      ]
     },
     "execution_count": 35,
     "metadata": {},
     "output_type": "execute_result"
    }
   ],
   "source": [
    "jovian.commit()"
   ]
  },
  {
   "cell_type": "markdown",
   "metadata": {},
   "source": [
    "## Asking and Answering Questions"
   ]
  },
  {
   "cell_type": "markdown",
   "metadata": {},
   "source": [
    "#### Q1: Which are the Top 5 Happiest countries in the world"
   ]
  },
  {
   "cell_type": "code",
   "execution_count": 36,
   "metadata": {},
   "outputs": [
    {
     "data": {
      "image/png": "[encoded data removed]",
      "text/plain": [
       "<Figure size 864x432 with 1 Axes>"
      ]
     },
     "metadata": {
      "needs_background": "light"
     },
     "output_type": "display_data"
    },
    {
     "data": {
      "image/png": "[encoded data removed]",
      "text/plain": [
       "<Figure size 864x432 with 1 Axes>"
      ]
     },
     "metadata": {
      "needs_background": "light"
     },
     "output_type": "display_data"
    }
   ],
   "source": [
    "#for 2015\n",
    "happiest_countries = report2015.iloc[:5]\n",
    "plt.figure(figsize=(12,6))\n",
    "sns.barplot(x = happiest_countries[\"country\"], y=report2015[\"happiness_score\"])\n",
    "plt.title(\"Happiest countries in 2015\", size=15)\n",
    "plt.show()\n",
    "#for 2019\n",
    "happiest_countries19 = report2019.iloc[:5]\n",
    "plt.figure(figsize=(12,6))\n",
    "sns.barplot(x = happiest_countries19[\"country_or_region\"], y=report2019[\"score\"])\n",
    "plt.title(\"Happiest countries in 2019\", size=15)\n",
    "plt.show()"
   ]
  },
  {
   "cell_type": "markdown",
   "metadata": {},
   "source": [
    "Top 5 happiest countries in 2015 are:\n",
    "1. Switzerland\n",
    "2. Iceland\n",
    "3. Denmark\n",
    "4. Norway\n",
    "5. Canada\n",
    "\n",
    "- All have happiness score more than or equal to 7.0"
   ]
  },
  {
   "cell_type": "markdown",
   "metadata": {},
   "source": [
    "Top 5 happiest countries in 2019 are:\n",
    "1. Finland\n",
    "2. Denmark\n",
    "3. Norway\n",
    "4. Iceland\n",
    "5. Netherlands\n",
    "\n",
    "- Finland happiness score increased exponentially in this four years and made it to the top."
   ]
  },
  {
   "cell_type": "markdown",
   "metadata": {},
   "source": [
    "#### Q2: gdp of top 5 happiest countries"
   ]
  },
  {
   "cell_type": "code",
   "execution_count": 37,
   "metadata": {},
   "outputs": [
    {
     "data": {
      "image/png": "[encoded data removed]",
      "text/plain": [
       "<Figure size 864x432 with 1 Axes>"
      ]
     },
     "metadata": {
      "needs_background": "light"
     },
     "output_type": "display_data"
    },
    {
     "data": {
      "image/png": "[encoded data removed]",
      "text/plain": [
       "<Figure size 864x432 with 1 Axes>"
      ]
     },
     "metadata": {
      "needs_background": "light"
     },
     "output_type": "display_data"
    }
   ],
   "source": [
    "plt.figure(figsize=(12,6))\n",
    "sns.barplot(x=happiest_countries[\"country\"], y = report2015[\"economy_gdp_per_capita\"])\n",
    "plt.title(\"GDP per captia in 5 most happiest countries 2015\", size=15)\n",
    "plt.show()\n",
    "#for 2019\n",
    "plt.figure(figsize=(12,6))\n",
    "sns.barplot(x=happiest_countries19[\"country_or_region\"], y = report2019[\"gdp_per_capita\"])\n",
    "plt.title(\"GDP per captia in 5 most happiest countries 2019\", size=15)\n",
    "plt.show()"
   ]
  },
  {
   "cell_type": "markdown",
   "metadata": {},
   "source": [
    "In 2015 & 2019,<br>\n",
    "Norway has the highest gdp amongst the top 5 happiest country in the world.\n",
    "\n",
    "\n"
   ]
  },
  {
   "cell_type": "markdown",
   "metadata": {},
   "source": [
    "#### Q3: Which are the Least happy countries in the world?"
   ]
  },
  {
   "cell_type": "code",
   "execution_count": 38,
   "metadata": {},
   "outputs": [
    {
     "data": {
      "image/png": "[encoded data removed]",
      "text/plain": [
       "<Figure size 864x432 with 1 Axes>"
      ]
     },
     "metadata": {
      "needs_background": "light"
     },
     "output_type": "display_data"
    },
    {
     "data": {
      "image/png": "[encoded data removed]",
      "text/plain": [
       "<Figure size 864x432 with 1 Axes>"
      ]
     },
     "metadata": {
      "needs_background": "light"
     },
     "output_type": "display_data"
    }
   ],
   "source": [
    "#for 2015\n",
    "least_happy_countries = report2015.iloc[-5:]\n",
    "plt.figure(figsize=(12,6))\n",
    "sns.barplot(x = least_happy_countries[\"country\"], y=report2015[\"happiness_score\"])\n",
    "plt.title(\"Least Happy countries in 2015\", size=15)\n",
    "plt.show()\n",
    "#for 2019\n",
    "least_happy_countries19 = report2019.iloc[-5:]\n",
    "plt.figure(figsize=(12,6))\n",
    "sns.barplot(x = least_happy_countries19[\"country_or_region\"], y=report2019[\"score\"])\n",
    "plt.title(\"Least Happy countries in 2019\", size=15)\n",
    "plt.show()"
   ]
  },
  {
   "cell_type": "markdown",
   "metadata": {},
   "source": [
    "Least happy country in world(2015)\n",
    "- Togo is least happy country in the world with happiness score of less than 3.0\n",
    "\n",
    "Least happy country in world(2019)\n",
    "- South Sudan is least happy country in the world (2019)."
   ]
  },
  {
   "cell_type": "markdown",
   "metadata": {},
   "source": [
    "#### Q4: Is India Happiness score increased or decreased in span of four years(i.e. 2015 to 2019)?"
   ]
  },
  {
   "cell_type": "code",
   "execution_count": 39,
   "metadata": {},
   "outputs": [
    {
     "data": {
      "text/html": [
       "<div>\n",
       "<style scoped>\n",
       "    .dataframe tbody tr th:only-of-type {\n",
       "        vertical-align: middle;\n",
       "    }\n",
       "\n",
       "    .dataframe tbody tr th {\n",
       "        vertical-align: top;\n",
       "    }\n",
       "\n",
       "    .dataframe thead th {\n",
       "        text-align: right;\n",
       "    }\n",
       "</style>\n",
       "<table border=\"1\" class=\"dataframe\">\n",
       "  <thead>\n",
       "    <tr style=\"text-align: right;\">\n",
       "      <th></th>\n",
       "      <th>country</th>\n",
       "      <th>happiness_rank</th>\n",
       "      <th>happiness_score</th>\n",
       "      <th>economy_gdp_per_capita</th>\n",
       "      <th>family</th>\n",
       "      <th>health_life_expectancy</th>\n",
       "      <th>freedom</th>\n",
       "      <th>trust_government_corruption</th>\n",
       "      <th>generosity</th>\n",
       "      <th>dystopia_residual</th>\n",
       "    </tr>\n",
       "  </thead>\n",
       "  <tbody>\n",
       "    <tr>\n",
       "      <th>116</th>\n",
       "      <td>India</td>\n",
       "      <td>117</td>\n",
       "      <td>4.565</td>\n",
       "      <td>0.64499</td>\n",
       "      <td>0.38174</td>\n",
       "      <td>0.51529</td>\n",
       "      <td>0.39786</td>\n",
       "      <td>0.08492</td>\n",
       "      <td>0.26475</td>\n",
       "      <td>2.27513</td>\n",
       "    </tr>\n",
       "  </tbody>\n",
       "</table>\n",
       "</div>"
      ],
      "text/plain": [
       "    country  happiness_rank  happiness_score  economy_gdp_per_capita   family  \\\n",
       "116   India             117            4.565                 0.64499  0.38174   \n",
       "\n",
       "     health_life_expectancy  freedom  trust_government_corruption  generosity  \\\n",
       "116                 0.51529  0.39786                      0.08492     0.26475   \n",
       "\n",
       "     dystopia_residual  \n",
       "116            2.27513  "
      ]
     },
     "execution_count": 39,
     "metadata": {},
     "output_type": "execute_result"
    }
   ],
   "source": [
    "# In 2015\n",
    "rank_2015 = report2015.loc[report2015['country'].str.contains(\"India\", case=False)]\n",
    "rank_2015"
   ]
  },
  {
   "cell_type": "code",
   "execution_count": 40,
   "metadata": {},
   "outputs": [
    {
     "data": {
      "text/html": [
       "<div>\n",
       "<style scoped>\n",
       "    .dataframe tbody tr th:only-of-type {\n",
       "        vertical-align: middle;\n",
       "    }\n",
       "\n",
       "    .dataframe tbody tr th {\n",
       "        vertical-align: top;\n",
       "    }\n",
       "\n",
       "    .dataframe thead th {\n",
       "        text-align: right;\n",
       "    }\n",
       "</style>\n",
       "<table border=\"1\" class=\"dataframe\">\n",
       "  <thead>\n",
       "    <tr style=\"text-align: right;\">\n",
       "      <th></th>\n",
       "      <th>overall_rank</th>\n",
       "      <th>country_or_region</th>\n",
       "      <th>score</th>\n",
       "      <th>gdp_per_capita</th>\n",
       "      <th>healthy_life_expectancy</th>\n",
       "      <th>freedom_to_make_life_choices</th>\n",
       "      <th>generosity</th>\n",
       "      <th>perceptions_of_corruption</th>\n",
       "    </tr>\n",
       "  </thead>\n",
       "  <tbody>\n",
       "    <tr>\n",
       "      <th>139</th>\n",
       "      <td>140</td>\n",
       "      <td>India</td>\n",
       "      <td>4.015</td>\n",
       "      <td>0.755</td>\n",
       "      <td>0.588</td>\n",
       "      <td>0.498</td>\n",
       "      <td>0.2</td>\n",
       "      <td>0.085</td>\n",
       "    </tr>\n",
       "  </tbody>\n",
       "</table>\n",
       "</div>"
      ],
      "text/plain": [
       "     overall_rank country_or_region  score  gdp_per_capita  \\\n",
       "139           140             India  4.015           0.755   \n",
       "\n",
       "     healthy_life_expectancy  freedom_to_make_life_choices  generosity  \\\n",
       "139                    0.588                         0.498         0.2   \n",
       "\n",
       "     perceptions_of_corruption  \n",
       "139                      0.085  "
      ]
     },
     "execution_count": 40,
     "metadata": {},
     "output_type": "execute_result"
    }
   ],
   "source": [
    "# In 2019\n",
    "rank_2019 = report2019.loc[report2019['country_or_region'].str.contains(\"India\", case=False)]\n",
    "rank_2019"
   ]
  },
  {
   "cell_type": "markdown",
   "metadata": {},
   "source": [
    "- India's happiness score has decreased from 4.56 to 4.01 in span of four years.\n",
    "<br>\n",
    "- India's rank has been shifted to 140 from 116.\n",
    "<br>\n",
    "- Here we can see that despite increasing in gdp, health, freedom still our happiness score got decreased this might happen due to calculating happiness score differently in 2019 like adding some more factors into it. "
   ]
  },
  {
   "cell_type": "markdown",
   "metadata": {},
   "source": [
    "#### Q5: Happiness factors in India"
   ]
  },
  {
   "cell_type": "code",
   "execution_count": 41,
   "metadata": {},
   "outputs": [
    {
     "data": {
      "text/plain": [
       "['India',\n",
       " 117,\n",
       " 4.565,\n",
       " 0.64499,\n",
       " 0.38174,\n",
       " 0.51529,\n",
       " 0.39786,\n",
       " 0.08492,\n",
       " 0.26475,\n",
       " 2.27513]"
      ]
     },
     "execution_count": 41,
     "metadata": {},
     "output_type": "execute_result"
    }
   ],
   "source": [
    "#for 2015\n",
    "india = list(report2015.loc[116])\n",
    "india"
   ]
  },
  {
   "cell_type": "code",
   "execution_count": 42,
   "metadata": {},
   "outputs": [
    {
     "data": {
      "text/plain": [
       "[0.64499, 0.38174, 0.51529, 0.39786, 0.08492, 0.26475]"
      ]
     },
     "execution_count": 42,
     "metadata": {},
     "output_type": "execute_result"
    }
   ],
   "source": [
    "#removing unwanted columns\n",
    "del india[0:3]\n",
    "india.pop()\n",
    "india"
   ]
  },
  {
   "cell_type": "code",
   "execution_count": 43,
   "metadata": {},
   "outputs": [
    {
     "data": {
      "image/png": "[encoded data removed]",
      "text/plain": [
       "<Figure size 720x576 with 1 Axes>"
      ]
     },
     "metadata": {},
     "output_type": "display_data"
    }
   ],
   "source": [
    "labels = list(report2015.columns)\n",
    "del labels[0:3]\n",
    "labels.pop()\n",
    "explode = (0.1,0.1,0.1,0.1,0.1,0.1)\n",
    "plt.figure(figsize=(10,8))\n",
    "plt.title(\"Happiness Distribution in India\", fontsize=15)\n",
    "plt.pie(x= india, labels=labels, explode=explode, autopct='%1.0f%%')\n",
    "plt.show()"
   ]
  },
  {
   "cell_type": "markdown",
   "metadata": {},
   "source": [
    "- Indias happiness is majorly depended on gdp just like world data.."
   ]
  },
  {
   "cell_type": "markdown",
   "metadata": {},
   "source": [
    "### Is overall world's happiness score increased/ decreased by time?"
   ]
  },
  {
   "cell_type": "code",
   "execution_count": 44,
   "metadata": {},
   "outputs": [
    {
     "data": {
      "text/plain": [
       "5.3757341772151905"
      ]
     },
     "execution_count": 44,
     "metadata": {},
     "output_type": "execute_result"
    }
   ],
   "source": [
    "average_score_2015 = report2015['happiness_score'].mean()\n",
    "average_score_2015"
   ]
  },
  {
   "cell_type": "code",
   "execution_count": 45,
   "metadata": {},
   "outputs": [
    {
     "data": {
      "text/plain": [
       "5.407096153846153"
      ]
     },
     "execution_count": 45,
     "metadata": {},
     "output_type": "execute_result"
    }
   ],
   "source": [
    "average_score_2019 = report2019['score'].mean()\n",
    "average_score_2019"
   ]
  },
  {
   "cell_type": "markdown",
   "metadata": {},
   "source": [
    "- Here overall happiness score in the world increased by 0.03 in span of four years."
   ]
  },
  {
   "cell_type": "markdown",
   "metadata": {},
   "source": [
    "Let us save and upload our work to Jovian before continuing."
   ]
  },
  {
   "cell_type": "code",
   "execution_count": 46,
   "metadata": {},
   "outputs": [],
   "source": [
    "import jovian"
   ]
  },
  {
   "cell_type": "code",
   "execution_count": null,
   "metadata": {},
   "outputs": [
    {
     "data": {
      "application/javascript": [
       "window.require && require([\"base/js/namespace\"],function(Jupyter){Jupyter.notebook.save_checkpoint()})"
      ],
      "text/plain": [
       "<IPython.core.display.Javascript object>"
      ]
     },
     "metadata": {},
     "output_type": "display_data"
    }
   ],
   "source": [
    "jovian.commit()"
   ]
  },
  {
   "cell_type": "markdown",
   "metadata": {},
   "source": [
    "## Inferences and Conclusion\n",
    "We have derived some meaningful insights from World Happiness Report and we can use this insights for further analysis of World Happiness Report in depth.\n",
    "\n",
    "### Conclusion of our analysis is:\n",
    "From World Happiness Report of 2015 & 2019, we can conclude that-\n",
    "   - Asia and Africa continent have the least happiness score compare to others.\n",
    "   - Highest correlation with happiness score is : economy_gdp_per_capita(0.78) > family(0.65) > health_life_expectancy(0.53).\n",
    "   - economy_gdp_per_capita and health_life_expectancy has highest correlation i.e. 0.82.\n",
    "   - From correlation matrix, we can assume that happiness is highly dependent on gdp, family and health.\n",
    "   - The least correalted columns are generosity vs economy_gdp_per_capita.\n",
    "   - Top 5 Happiest countries in the world have  happiness score more than or equal to 7.0.\n",
    "   - Finland happiness score increased exponentially in this four years and made it to the top.\n",
    "   - In 2015 & 2019, Norway has the highest gdp amongst the top 5 happiest country in the world.\n",
    "   - In 2015, Togo was least happy country in the world with happiness score of less than 3.0.\n",
    "   - India's happiness score has decreased from 4.56 to 4.01 in span of four years.\n",
    "   - India's rank has been shifted to 140 from 116.\n",
    "   - India's happiness is majorly depended on gdp just like world data.\n",
    "   - overall happiness score in the world has increased by 0.03 from 2015 to 2019.\n",
    "\n",
    "\n"
   ]
  },
  {
   "cell_type": "code",
   "execution_count": null,
   "metadata": {},
   "outputs": [],
   "source": [
    "import jovian"
   ]
  },
  {
   "cell_type": "code",
   "execution_count": null,
   "metadata": {},
   "outputs": [],
   "source": [
    "jovian.commit()"
   ]
  },
  {
   "cell_type": "markdown",
   "metadata": {},
   "source": [
    "## References and Future Work\n",
    "\n",
    "Dataset used- \"https://www.kaggle.com/unsdsn/world-happiness\""
   ]
  },
  {
   "cell_type": "code",
   "execution_count": null,
   "metadata": {},
   "outputs": [],
   "source": [
    "import jovian"
   ]
  },
  {
   "cell_type": "code",
   "execution_count": null,
   "metadata": {
    "scrolled": true
   },
   "outputs": [],
   "source": [
    "jovian.commit()"
   ]
  },
  {
   "cell_type": "code",
   "execution_count": null,
   "metadata": {},
   "outputs": [],
   "source": []
  }
 ],
 "metadata": {
  "language_info": {
   "codemirror_mode": {
    "name": "ipython",
    "version": 3
   },
   "file_extension": ".py",
   "mimetype": "text/x-python",
   "name": "python",
   "nbconvert_exporter": "python",
   "pygments_lexer": "ipython3",
   "version": "3.9.6"
  }
 },
 "nbformat": 4,
 "nbformat_minor": 4
}